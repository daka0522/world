{
 "cells": [
  {
   "cell_type": "code",
   "execution_count": 2,
   "metadata": {},
   "outputs": [],
   "source": [
    "import numpy as np  \n",
    "import pygame \n",
    "import time \n",
    "\n",
    "\"\"\" \n",
    "=====================================================================================\n",
    "Logic \n",
    "1. World is created with spaces.\n",
    "2. Cell is created with world.\n",
    "3. Cell is born in the world.\n",
    "4. Cell dies in the world.\n",
    "5. Cell can be born in the world.\n",
    "\"\"\"\n",
    "\n",
    "class World: \n",
    "    def __init__(self):\n",
    "        self.HEIGHT = 5 \n",
    "        self.WIDTH = 3 \n",
    "\n",
    "        self.spaces = np.zeros((self.HEIGHT, self.WIDTH), dtype=Cell)\n",
    "\n",
    "        self.lifes_ever = 0\n",
    "        self.lifes = []\n",
    "\n",
    "    def get_avialable_spaces(self) -> np.ndarray[np.ndarray[int], np.ndarray[int]]:\n",
    "        return np.stack(np.where(self.spaces == 0), axis=1)\n",
    "\n",
    "\n",
    "class Cell: \n",
    "    def __init__(self, world: World):\n",
    "        self.world = world\n",
    "        self.alive = False \n",
    "        self.current_location = None \n",
    "        self.color = None \n",
    "        self.age = 0\n",
    "        self.born_time = None\n",
    "        self.born()\n",
    "        self.face = np.random.choice([0, 1, 2, 3])    # clock wise: front=0 -> right=1 -> back=2 -> left=3\n",
    "\n",
    "    def born(self):\n",
    "        location = self.get_space()\n",
    "        if location is None:\n",
    "            print(\"No available space\")\n",
    "        else:\n",
    "            self.world.lifes_ever += 1 \n",
    "            self.name = f\"Cell_{self.world.lifes_ever}\"\n",
    "            self.born_time = time.time()\n",
    "\n",
    "            self.world.spaces[location[0], location[1]] = self \n",
    "            self.current_location = location\n",
    "            self.alive = True\n",
    "            self.color = COLORS[np.random.choice(len(COLORS))]\n",
    "            self.world.lifes.append(self)\n",
    "    \n",
    "    def die(self):\n",
    "        if self.alive: \n",
    "            location = np.where(self.world.spaces == self)\n",
    "            self.world.spaces[location[0], location[1]] = 0\n",
    "            self.alive = False\n",
    "            self.color = None \n",
    "        else:\n",
    "            print(\"Cell is already dead\")\n",
    "\n",
    "\n",
    "    def get_space(self):\n",
    "        available_spaces = self.world.get_avialable_spaces()\n",
    "        len_available_space = len(available_spaces)\n",
    "        if len_available_space == 0:\n",
    "            return None\n",
    "        else:\n",
    "            location = np.random.choice(len_available_space)\n",
    "            return available_spaces[location]\n",
    "            \n",
    "    def __repr__(self):\n",
    "        if self.alive:\n",
    "            return f\"{self.name}\" \n",
    "        else: \n",
    "            return \"Unborn Cell\"\n",
    "\n",
    "    # Aging system\n",
    "    def aging(self):\n",
    "        current_time = time.time()\n",
    "        elapsed_time = np.round(current_time - self.born_time, 2)\n",
    "\n",
    "        if self.alive and elapsed_time % 5:\n",
    "            self.age += 1 \n",
    "            self.color = self.color * 0.9\n",
    "\n",
    "            if self.age > 10:\n",
    "                self.die()\n",
    "    \n",
    "    def search_to_move(self):\n",
    "        if self.face == 0:  # front\n",
    "            new_location = self.current_location + np.array([-1, 0])\n",
    "        elif self.face == 1:    # right\n",
    "            new_location = self.current_location + np.array([0, 1])\n",
    "        elif self.face == 2:    # back\n",
    "            new_location = self.current_location + np.array([1, 0])\n",
    "        elif self.face == 3:    # left\n",
    "            new_location = self.current_location + np.array([0, -1])\n",
    "        else:\n",
    "            raise ValueError(\"Unknown face value. It must be {0, 1, 2, 3}\")\n",
    "        \n",
    "        if 0 <= new_location[0] < world.HEIGHT and 0 <= new_location[1] < world.WIDTH:\n",
    "            print(f\"Can move to {new_location}\")\n",
    "            return new_location\n",
    "        else:\n",
    "            print(f\"Impossible to move to {new_location}. Please turn your face.\")\n",
    "            self.turn_face()\n",
    "            return self.current_location\n",
    "        \n",
    "    def move(self):\n",
    "        self.current_location = self.search_to_move()\n",
    "\n",
    "    def turn_face(self):\n",
    "        if self.face == 3:\n",
    "            self.face = 0\n",
    "        else: \n",
    "            self.face += 1\n",
    "            \n",
    "\"\"\" \n",
    "=====================================================================================\n",
    "2. Rendering the world\n",
    "\"\"\"\n",
    "\n",
    "# pygame setup\n",
    "DISPLAY_WIDTH = 800\n",
    "HEIGHT = 600\n",
    "\n",
    "\n",
    "\n",
    "#set up the colors\n",
    "WHITE = np.array([255, 255, 255])\n",
    "YELLOW = np.array([255, 255, 0])\n",
    "RED = np.array([255, 0, 0])\n",
    "BLUE = np.array([0, 0, 255])\n",
    "GREEN = np.array([0, 255, 0])\n",
    "BLACK = np.array([0, 0, 0])\n",
    "ORANGE = np.array([255, 128, 0])\n",
    "PURPLE = np.array([128,0,128])\n",
    "\n",
    "COLORS = [RED, BLUE, GREEN, ORANGE, PURPLE]\n",
    "\n",
    "\n",
    "def render_world(world: World):\n",
    "    grid_color = WHITE \n",
    "\n",
    "    tile_width = DISPLAY_WIDTH // world.WIDTH\n",
    "    tile_height = HEIGHT // world.HEIGHT\n",
    "\n",
    "    for x in range(0, DISPLAY_WIDTH, tile_width):\n",
    "        pygame.draw.line(screen, grid_color, (x, 0), (x, HEIGHT))\n",
    "    for y in range(0, HEIGHT, tile_height):\n",
    "        pygame.draw.line(screen, grid_color, (0, y), (DISPLAY_WIDTH, y))\n",
    "\n",
    "\n",
    "def render_cell(cell: Cell, world: World, color=RED):\n",
    "    width = DISPLAY_WIDTH // world.WIDTH\n",
    "    height = HEIGHT // world.HEIGHT\n",
    "\n",
    "    if cell.alive:\n",
    "        x, y = cell.current_location\n",
    "        x_position = x * width\n",
    "        y_position = y * height\n",
    "\n",
    "        rect = pygame.Rect(x_position, y_position, width, height) # (x, y, width, height)\n",
    "\n",
    "        pygame.draw.rect(screen, color, rect)\n",
    "        \n",
    "\n",
    "world = World()\n",
    "\n",
    "c1 = Cell(world)\n",
    "# c2 = Cell(world)\n",
    "# c3 = Cell(world)\n",
    "# c4 = Cell(world)\n",
    "\n",
    "t = time.time()"
   ]
  },
  {
   "cell_type": "code",
   "execution_count": 3,
   "metadata": {},
   "outputs": [
    {
     "data": {
      "text/plain": [
       "array([[0, 0, 0],\n",
       "       [0, Cell_1, 0],\n",
       "       [0, 0, 0],\n",
       "       [0, 0, 0],\n",
       "       [0, 0, 0]], dtype=object)"
      ]
     },
     "execution_count": 3,
     "metadata": {},
     "output_type": "execute_result"
    }
   ],
   "source": [
    "world.spaces\n"
   ]
  },
  {
   "cell_type": "code",
   "execution_count": 4,
   "metadata": {},
   "outputs": [
    {
     "data": {
      "text/plain": [
       "array([[0, 0],\n",
       "       [0, 1],\n",
       "       [0, 2],\n",
       "       [1, 0],\n",
       "       [1, 2],\n",
       "       [2, 0],\n",
       "       [2, 1],\n",
       "       [2, 2],\n",
       "       [3, 0],\n",
       "       [3, 1],\n",
       "       [3, 2],\n",
       "       [4, 0],\n",
       "       [4, 1],\n",
       "       [4, 2]])"
      ]
     },
     "execution_count": 4,
     "metadata": {},
     "output_type": "execute_result"
    }
   ],
   "source": [
    "world.get_avialable_spaces()"
   ]
  },
  {
   "cell_type": "code",
   "execution_count": 5,
   "metadata": {},
   "outputs": [
    {
     "data": {
      "text/plain": [
       "array([1, 1])"
      ]
     },
     "execution_count": 5,
     "metadata": {},
     "output_type": "execute_result"
    }
   ],
   "source": [
    "c1.current_location "
   ]
  },
  {
   "cell_type": "code",
   "execution_count": 6,
   "metadata": {},
   "outputs": [
    {
     "data": {
      "text/plain": [
       "3"
      ]
     },
     "execution_count": 6,
     "metadata": {},
     "output_type": "execute_result"
    }
   ],
   "source": [
    "c1.face "
   ]
  },
  {
   "cell_type": "code",
   "execution_count": 7,
   "metadata": {},
   "outputs": [
    {
     "name": "stdout",
     "output_type": "stream",
     "text": [
      "Can move to [1 0]\n"
     ]
    }
   ],
   "source": [
    "c1.move()"
   ]
  },
  {
   "cell_type": "code",
   "execution_count": 8,
   "metadata": {},
   "outputs": [
    {
     "name": "stdout",
     "output_type": "stream",
     "text": [
      "Impossible to move to [ 1 -1]. Please turn your face.\n"
     ]
    }
   ],
   "source": [
    "c1.current_location = c1.move()"
   ]
  },
  {
   "cell_type": "code",
   "execution_count": 9,
   "metadata": {},
   "outputs": [],
   "source": [
    "foods = []\n",
    "\n",
    "foods.append(\"A\")"
   ]
  },
  {
   "cell_type": "code",
   "execution_count": 14,
   "metadata": {},
   "outputs": [
    {
     "ename": "ValueError",
     "evalue": "list.remove(x): x not in list",
     "output_type": "error",
     "traceback": [
      "\u001b[0;31m---------------------------------------------------------------------------\u001b[0m",
      "\u001b[0;31mValueError\u001b[0m                                Traceback (most recent call last)",
      "Cell \u001b[0;32mIn[14], line 1\u001b[0m\n\u001b[0;32m----> 1\u001b[0m foods\u001b[38;5;241m.\u001b[39mremove(\u001b[38;5;124m\"\u001b[39m\u001b[38;5;124mA\u001b[39m\u001b[38;5;124m\"\u001b[39m)\n",
      "\u001b[0;31mValueError\u001b[0m: list.remove(x): x not in list"
     ]
    }
   ],
   "source": [
    "foods.remove(\"A\")"
   ]
  },
  {
   "cell_type": "code",
   "execution_count": 12,
   "metadata": {},
   "outputs": [],
   "source": [
    "foods.append(\"B\")"
   ]
  },
  {
   "cell_type": "code",
   "execution_count": 13,
   "metadata": {},
   "outputs": [
    {
     "data": {
      "text/plain": [
       "['B']"
      ]
     },
     "execution_count": 13,
     "metadata": {},
     "output_type": "execute_result"
    }
   ],
   "source": [
    "foods "
   ]
  },
  {
   "cell_type": "code",
   "execution_count": 16,
   "metadata": {},
   "outputs": [
    {
     "data": {
      "text/plain": [
       "array([0, 1, 2, 3])"
      ]
     },
     "execution_count": 16,
     "metadata": {},
     "output_type": "execute_result"
    }
   ],
   "source": [
    "a = np.array([0, 1, 2, 3])\n",
    "a "
   ]
  },
  {
   "cell_type": "code",
   "execution_count": 22,
   "metadata": {},
   "outputs": [
    {
     "data": {
      "text/plain": [
       "array([1, 2, 3])"
      ]
     },
     "execution_count": 22,
     "metadata": {},
     "output_type": "execute_result"
    }
   ],
   "source": [
    "np.where(a !=0)[0]"
   ]
  },
  {
   "cell_type": "code",
   "execution_count": 47,
   "metadata": {},
   "outputs": [],
   "source": [
    "world.spaces[0][0] = '@'"
   ]
  },
  {
   "cell_type": "code",
   "execution_count": null,
   "metadata": {},
   "outputs": [
    {
     "data": {
      "text/plain": [
       "Cell_1"
      ]
     },
     "execution_count": 55,
     "metadata": {},
     "output_type": "execute_result"
    }
   ],
   "source": [
    "c1 = world.spaces[1][1]\n",
    "c1"
   ]
  },
  {
   "cell_type": "code",
   "execution_count": 42,
   "metadata": {},
   "outputs": [
    {
     "data": {
      "text/plain": [
       "str"
      ]
     },
     "execution_count": 42,
     "metadata": {},
     "output_type": "execute_result"
    }
   ],
   "source": [
    "type(c1.name)"
   ]
  },
  {
   "cell_type": "code",
   "execution_count": 61,
   "metadata": {},
   "outputs": [],
   "source": [
    "world.spaces = np.where(world.spaces ==  c1, 0, world.spaces)"
   ]
  },
  {
   "cell_type": "code",
   "execution_count": 67,
   "metadata": {},
   "outputs": [
    {
     "data": {
      "text/plain": [
       "array([['@', Cell_2, 0],\n",
       "       [0, 0, 0],\n",
       "       [0, 0, 0],\n",
       "       [0, 0, 0],\n",
       "       [0, 0, 0]], dtype=object)"
      ]
     },
     "execution_count": 67,
     "metadata": {},
     "output_type": "execute_result"
    }
   ],
   "source": [
    "world.spaces"
   ]
  },
  {
   "cell_type": "code",
   "execution_count": 65,
   "metadata": {},
   "outputs": [],
   "source": [
    "c1 = Cell(world)"
   ]
  },
  {
   "cell_type": "code",
   "execution_count": 69,
   "metadata": {},
   "outputs": [
    {
     "data": {
      "text/plain": [
       "Cell_2"
      ]
     },
     "execution_count": 69,
     "metadata": {},
     "output_type": "execute_result"
    }
   ],
   "source": [
    "world.spaces[c1.current_location[0], c1.current_location[1]]"
   ]
  },
  {
   "cell_type": "code",
   "execution_count": null,
   "metadata": {},
   "outputs": [],
   "source": []
  }
 ],
 "metadata": {
  "kernelspec": {
   "display_name": "base",
   "language": "python",
   "name": "python3"
  },
  "language_info": {
   "codemirror_mode": {
    "name": "ipython",
    "version": 3
   },
   "file_extension": ".py",
   "mimetype": "text/x-python",
   "name": "python",
   "nbconvert_exporter": "python",
   "pygments_lexer": "ipython3",
   "version": "3.12.9"
  }
 },
 "nbformat": 4,
 "nbformat_minor": 2
}
