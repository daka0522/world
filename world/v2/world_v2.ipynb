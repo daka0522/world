{
 "cells": [
  {
   "cell_type": "code",
   "execution_count": 216,
   "metadata": {},
   "outputs": [],
   "source": [
    "import numpy as np \n",
    "import time \n",
    "from collections import defaultdict\n",
    "\n",
    "\"\"\" \n",
    "=====================================================================================\n",
    "Logic \n",
    "1. World is created with spaces.\n",
    "2. Cell is created with world.\n",
    "3. Cell is born in the world.\n",
    "4. Cell dies in the world.\n",
    "5. Cell can be born in the world.\n",
    "\"\"\"\n",
    "\n",
    "#set up the colors\n",
    "WHITE = np.array([255, 255, 255])\n",
    "YELLOW = np.array([255, 255, 0])\n",
    "RED = np.array([255, 0, 0])\n",
    "BLUE = np.array([0, 0, 255])\n",
    "GREEN = np.array([0, 255, 0])\n",
    "BLACK = np.array([0, 0, 0])\n",
    "ORANGE = np.array([255, 128, 0])\n",
    "PURPLE = np.array([128,0,128])\n",
    "\n",
    "COLORS = [RED, BLUE, GREEN, ORANGE, PURPLE]\n",
    "\n",
    "\n",
    "\n",
    "\n",
    "class World: \n",
    "    \"\"\"\n",
    "    World is where all the object lives and dies.\n",
    "    It gives spaces and some other informations.\n",
    "    You can set the size of the world.\n",
    "    \"\"\"\n",
    "    def __init__(self, size: int=10):\n",
    "        self.HEIGHT = size \n",
    "        self.WIDTH = size\n",
    "\n",
    "        self.spaces: np.ndarray = np.zeros((self.HEIGHT, self.WIDTH), dtype=object)\n",
    "\n",
    "        self.matter: dict[str, any] = defaultdict(list)\n",
    "        self.matter_count: dict[str, int] = defaultdict(int)\n",
    "\n",
    "        self.reward_map = {\"Cell\": -1, 0: 1, \"Food\": 10, -1: -1}\n",
    "\n",
    "\n",
    "    def get_avialable_spaces(self) -> np.ndarray[np.ndarray[int], np.ndarray[int]]:\n",
    "        \"\"\"Search a free space and give it back.\"\"\"\n",
    "        return np.stack(np.where(self.spaces == 0), axis=1)\n",
    "\n",
    "\n",
    "class Matter:\n",
    "    \"\"\"\n",
    "    Proto type of life.\n",
    "    Sub classes: Cell, Food\n",
    "    \"\"\"\n",
    "    def __init__(self, world: World) -> None:\n",
    "        self.world: World = world\n",
    "        self.is_alive = False \n",
    "        self.current_location: tuple[int, int] | None = None \n",
    "        self.color: tuple[int, int, int] = None\n",
    "        self.age: int = 0 \n",
    "        self.born_time: time.time = None \n",
    "        self.name: str = None \n",
    "        self.class_name: str = self.__class__.__qualname__\n",
    "\n",
    "        # If there's free space, then it can born.\n",
    "        available_space = self.get_space()\n",
    "        if available_space is None:\n",
    "            raise Exception(\"No available space\")\n",
    "        else:\n",
    "            self.born(available_space)\n",
    "\n",
    "    def get_space(self) -> None | np.ndarray:\n",
    "        available_spaces = self.world.get_avialable_spaces()\n",
    "        len_available_space = len(available_spaces)\n",
    "        if len_available_space == 0:\n",
    "            return None\n",
    "        else:\n",
    "            location = np.random.choice(len_available_space)\n",
    "            return available_spaces[location]\n",
    "        \n",
    "    def born(self, available_space) -> None:\n",
    "        self.world.spaces[available_space[0], available_space[1]] = self \n",
    "        self.world.matter[self.class_name].append(self) # for examples: 'Cell': [instacnes..]\n",
    "        self.world.matter_count[self.class_name] += 1\n",
    "\n",
    "        self.is_alive = True\n",
    "        self.current_location = available_space\n",
    "        self.born_time = time.time()\n",
    "        self.name = f\"{self.class_name}_{self.world.matter_count[self.class_name]}\"\n",
    "        self.color = COLORS[np.random.choice(len(COLORS))] \n",
    "    \n",
    "    def die(self) -> None: \n",
    "        if self.is_alive: \n",
    "            row, col = self.current_location\n",
    "            if self.world.spaces[row, col] == self:\n",
    "                self.world.spaces[row, col] = 0\n",
    "            \n",
    "            self.is_alive = False\n",
    "            self.color = None \n",
    "            self.current_location = None \n",
    "\n",
    "            if self in self.world.matter[self.class_name]:\n",
    "                self.world.matter[self.class_name].remove(self)\n",
    "        else:\n",
    "            print(f\"{self.name} is already dead\")\n",
    "\n",
    "    def __repr__(self):\n",
    "        return f\"{self.name}\" \n",
    "    \n",
    "        if self.is_alive:\n",
    "            return f\"{self.name}\" \n",
    "        else: \n",
    "            return\n",
    "\n",
    "\n",
    "class Food(Matter):\n",
    "    \"\"\"\n",
    "    food for cell\n",
    "    1. location\n",
    "    2. state {is_alive, dead}\n",
    "    \"\"\"\n",
    "    def __init__(self, world: World):\n",
    "        super().__init__(world)\n",
    "        self.energy: int = 20\n",
    "\n",
    "\n",
    "class Cell(Matter): \n",
    "    \"\"\" \n",
    "    Cell is a living one. it's born with name, age, color, face(direction).\n",
    "    1. born: born with a given world\n",
    "    2. die: die itself\n",
    "    3. move: move somewhere\n",
    "    4. eat\n",
    "       \"\"\"\n",
    "    def __init__(self, world: World) -> None:\n",
    "        # Only for cell(mover).\n",
    "        self.face: int[0, 1, 2, 3] = None \n",
    "        self.energy = 50\n",
    "        self.MAX_ENERGY = 100\n",
    "\n",
    "        super().__init__(world)\n",
    "\n",
    "        # Memory\n",
    "        # self.memory = {0: 0, \"Cell\": 0, \"Food\": 0, -1: 0}\n",
    "        self.memory = defaultdict(int)\n",
    "\n",
    "        # Actions: {1. turn face, 2. move}\n",
    "        # Next_states: Next space to move {Empty, Other Cell, Wall(Boundary), Food}\n",
    "        # Memory.save([next_state, action, reward])\n",
    "\n",
    "    def born(self, available_space) -> None:\n",
    "        super().born(available_space)\n",
    "        self.face = np.random.choice([0, 1, 2, 3])    # clock wise: front=0 -> right=1 -> back=2 -> left=3\n",
    "\n",
    "    def sense_front(self, sense_reach: int = 1):\n",
    "        \"\"\"\n",
    "        Try to move with face(direction), get new location to move.\n",
    "        There's some rules. It cant' move beyond the world map. So, the widht and height of the world.\n",
    "        Secondly, it should have a logic to bump with other cells.\n",
    "        \n",
    "        Parameters\n",
    "        ----------\n",
    "\n",
    "        sense_reach: how far to sense (window size)\n",
    "        \"\"\"\n",
    "        if self.face == 0:  # front\n",
    "            new_location = self.current_location + np.array([-sense_reach, 0])\n",
    "        elif self.face == 1:    # right\n",
    "            new_location = self.current_location + np.array([0, sense_reach])\n",
    "        elif self.face == 2:    # back\n",
    "            new_location = self.current_location + np.array([sense_reach, 0])\n",
    "        elif self.face == 3:    # left\n",
    "            new_location = self.current_location + np.array([0, -sense_reach]) \n",
    "        else:\n",
    "            raise ValueError(\"Unknown face value. It must be {0, 1, 2, 3}\")\n",
    "        return new_location\n",
    "        \n",
    "    def ask_next_move(self):\n",
    "        \"\"\" \n",
    "        1. Cell sends a location of next move to World.\n",
    "        2. World respond to the cell, what's in the location it asked.\n",
    "        \"\"\"\n",
    "        new_location = self.sense_front()\n",
    "\n",
    "        inside_world = 0 <= new_location[0] < self.world.HEIGHT and 0 <= new_location[1] < self.world.WIDTH\n",
    "        \n",
    "        if inside_world:\n",
    "            whats_next = self.world.spaces[new_location[0], new_location[1]] \n",
    "\n",
    "            # If it's empty then go. 0 means empty, so free to move\n",
    "            if whats_next == 0 and self.energy > 10: \n",
    "                self.move(new_location)\n",
    "            # If it's a food then eat it.\n",
    "            elif isinstance(whats_next, Food):\n",
    "                self.eat(whats_next)\n",
    "            else:\n",
    "                self.turn_face()\n",
    "        else:\n",
    "            self.turn_face()\n",
    "\n",
    "    # RL Function 1\n",
    "    def ask_whats_next(self, new_location):\n",
    "        inside_world = 0 <= new_location[0] < self.world.HEIGHT and 0 <= new_location[1] < self.world.WIDTH\n",
    "        \n",
    "        if inside_world:\n",
    "            return self.world.spaces[new_location] \n",
    "        else:\n",
    "            return -1\n",
    "\n",
    "    # RL Function 2\n",
    "    def expect(self, next_state):\n",
    "        history_of_state = self.memory[next_state] \n",
    "        return history_of_state\n",
    "    \n",
    "    # RL Function 3\n",
    "    def do_action(self, history_of_state: int, new_location):\n",
    "        # If the state's result was poor then turn face. and move.\n",
    "        if history_of_state == 0: # there's no record, so try without knowing\n",
    "            self.go(new_location)\n",
    "        elif history_of_state > 0: # if it's positive. the it means it's rewarding. so go.\n",
    "            self.go(new_location)\n",
    "        elif history_of_state < 0: \n",
    "        # else turn face and ask again.\n",
    "            self.turn_face()\n",
    "            self.do_rl()\n",
    "    \n",
    "    def go(self, new_location):\n",
    "        inside_world = 0 <= new_location[0] < self.world.HEIGHT and 0 <= new_location[1] < self.world.WIDTH\n",
    "\n",
    "        if inside_world:\n",
    "            whats_next = self.world.spaces[new_location[0], new_location[1]] \n",
    "\n",
    "            # If it's empty then go. 0 means empty, so free to move\n",
    "            if whats_next == 0 and self.energy > 10: \n",
    "                self.move(new_location)\n",
    "                self.memory[0] += self.world.reward_map[0]\n",
    "            # If it's a food then eat it.\n",
    "            elif isinstance(whats_next, Food):\n",
    "                self.eat(whats_next)\n",
    "                self.memory[\"Food\"] += self.world.reward_map[\"Food\"]\n",
    "            elif isinstance(whats_next, Cell):\n",
    "                self.memory[\"Cell\"] += self.world.reward_map[\"Cell\"]\n",
    "                self.turn_face()\n",
    "        else: # outside world. walls\n",
    "            self.memory[-1] += self.world.reward_map[-1]\n",
    "            self.turn_face()\n",
    "\n",
    "    # RL Excute\n",
    "    def do_rl(self):\n",
    "        new_location = self.sense_front()\n",
    "        next_state = self.ask_whats_next(tuple(new_location))\n",
    "        history = self.expect(next_state)\n",
    "        self.do_action(history, tuple(new_location))\n",
    "\n",
    "\n",
    "    # Action 1\n",
    "    def move(self, new_location) -> None:\n",
    "        # Clear old location\n",
    "        row, col = self.current_location \n",
    "        if self.world.spaces[row, col] == self:\n",
    "            self.world.spaces[row, col] = 0\n",
    "        \n",
    "        # Update world spaces info\n",
    "        self.current_location = new_location\n",
    "        self.world.spaces[new_location[0], new_location[1]] = self\n",
    "\n",
    "        # consumtion and aging option: age +1 per a move.\n",
    "        # self.age += 1\n",
    "        self.energy -= 1\n",
    "    \n",
    "    # Action 2\n",
    "    def turn_face(self, new_face: int=None) -> None:\n",
    "        # random choice\n",
    "        if new_face is None:\n",
    "            new_face = np.where(self.face != [0, 1, 2, 3])[0] # except its previous face\n",
    "        self.face = np.random.choice(new_face)\n",
    "\n",
    "    def eat(self, food: Food) -> None:\n",
    "        self.energy += food.energy\n",
    "        food.die()\n",
    "\n",
    "    # Aging system\n",
    "    def aging(self) -> None:\n",
    "        current_time = time.time()\n",
    "        elapsed_time = np.round(current_time - self.born_time, 2)\n",
    "\n",
    "        if self.is_alive and elapsed_time % 5:\n",
    "            self.age += 1 \n",
    "            self.color = self.color * 0.975\n",
    "\n",
    "            if self.age > 100:\n",
    "                self.die()\n",
    "    \n",
    "\n"
   ]
  },
  {
   "cell_type": "code",
   "execution_count": 217,
   "metadata": {},
   "outputs": [],
   "source": [
    "w = World(2)\n",
    "c1 = Cell(w)\n",
    "c2 = Cell(w)\n",
    "f1 = Food(w)\n",
    "f2 = Food(w)"
   ]
  },
  {
   "cell_type": "code",
   "execution_count": 224,
   "metadata": {},
   "outputs": [
    {
     "data": {
      "text/plain": [
       "(array([[0, Cell_1],\n",
       "        [Cell_2, Food_1]], dtype=object),\n",
       " 3,\n",
       " defaultdict(int, {-1: -1, Food_2: 0, 'Food': 10}))"
      ]
     },
     "execution_count": 224,
     "metadata": {},
     "output_type": "execute_result"
    }
   ],
   "source": [
    "w.spaces, c1.face, c1.memory"
   ]
  },
  {
   "cell_type": "code",
   "execution_count": null,
   "metadata": {},
   "outputs": [],
   "source": [
    "new_location = c1.sense_front()\n",
    "next_state = c1.ask_whats_next(tuple(new_location))\n",
    "history = c1.expect(next_state)\n",
    "c1.do_action(history, tuple(new_location))\n",
    "\n"
   ]
  },
  {
   "cell_type": "code",
   "execution_count": 223,
   "metadata": {},
   "outputs": [
    {
     "data": {
      "text/plain": [
       "Food_2"
      ]
     },
     "execution_count": 223,
     "metadata": {},
     "output_type": "execute_result"
    }
   ],
   "source": [
    "next_state "
   ]
  },
  {
   "cell_type": "code",
   "execution_count": 215,
   "metadata": {},
   "outputs": [
    {
     "data": {
      "text/plain": [
       "array([2, 1])"
      ]
     },
     "execution_count": 215,
     "metadata": {},
     "output_type": "execute_result"
    }
   ],
   "source": [
    "new_location"
   ]
  },
  {
   "cell_type": "code",
   "execution_count": 130,
   "metadata": {},
   "outputs": [
    {
     "data": {
      "text/plain": [
       "-1"
      ]
     },
     "execution_count": 130,
     "metadata": {},
     "output_type": "execute_result"
    }
   ],
   "source": [
    "next_state = c1.ask_whats_next(tuple(new_location))\n",
    "next_state"
   ]
  },
  {
   "cell_type": "code",
   "execution_count": 107,
   "metadata": {},
   "outputs": [
    {
     "data": {
      "text/plain": [
       "0"
      ]
     },
     "execution_count": 107,
     "metadata": {},
     "output_type": "execute_result"
    }
   ],
   "source": [
    "hist = c1.expect(next_state)\n",
    "hist "
   ]
  },
  {
   "cell_type": "code",
   "execution_count": 108,
   "metadata": {},
   "outputs": [
    {
     "data": {
      "text/plain": [
       "{0: 0, 'Cell': 0, 'Food': 0, -1: 0}"
      ]
     },
     "execution_count": 108,
     "metadata": {},
     "output_type": "execute_result"
    }
   ],
   "source": [
    "c1.memory"
   ]
  },
  {
   "cell_type": "code",
   "execution_count": 117,
   "metadata": {},
   "outputs": [
    {
     "data": {
      "text/plain": [
       "array([1, 0])"
      ]
     },
     "execution_count": 117,
     "metadata": {},
     "output_type": "execute_result"
    }
   ],
   "source": [
    "c1.current_location"
   ]
  },
  {
   "cell_type": "code",
   "execution_count": 126,
   "metadata": {},
   "outputs": [
    {
     "data": {
      "text/plain": [
       "True"
      ]
     },
     "execution_count": 126,
     "metadata": {},
     "output_type": "execute_result"
    }
   ],
   "source": [
    "isinstance(next_state, Food)"
   ]
  },
  {
   "cell_type": "code",
   "execution_count": null,
   "metadata": {},
   "outputs": [],
   "source": [
    "\n",
    "class X:\n",
    "    x: int "
   ]
  },
  {
   "cell_type": "code",
   "execution_count": 5,
   "metadata": {},
   "outputs": [],
   "source": [
    "type Life[G] = int "
   ]
  },
  {
   "cell_type": "code",
   "execution_count": 7,
   "metadata": {},
   "outputs": [
    {
     "data": {
      "text/plain": [
       "typing.TypeAliasType"
      ]
     },
     "execution_count": 7,
     "metadata": {},
     "output_type": "execute_result"
    }
   ],
   "source": [
    "type(Life) "
   ]
  },
  {
   "cell_type": "code",
   "execution_count": null,
   "metadata": {},
   "outputs": [
    {
     "ename": "NameError",
     "evalue": "name 'T' is not defined",
     "output_type": "error",
     "traceback": [
      "\u001b[0;31m---------------------------------------------------------------------------\u001b[0m",
      "\u001b[0;31mNameError\u001b[0m                                 Traceback (most recent call last)",
      "Cell \u001b[0;32mIn[4], line 1\u001b[0m\n\u001b[0;32m----> 1\u001b[0m T\n",
      "\u001b[0;31mNameError\u001b[0m: name 'T' is not defined"
     ]
    }
   ],
   "source": []
  },
  {
   "cell_type": "code",
   "execution_count": null,
   "metadata": {},
   "outputs": [],
   "source": []
  }
 ],
 "metadata": {
  "kernelspec": {
   "display_name": "base",
   "language": "python",
   "name": "python3"
  },
  "language_info": {
   "codemirror_mode": {
    "name": "ipython",
    "version": 3
   },
   "file_extension": ".py",
   "mimetype": "text/x-python",
   "name": "python",
   "nbconvert_exporter": "python",
   "pygments_lexer": "ipython3",
   "version": "3.12.9"
  }
 },
 "nbformat": 4,
 "nbformat_minor": 2
}
