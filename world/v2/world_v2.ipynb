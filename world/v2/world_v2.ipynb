{
 "cells": [
  {
   "cell_type": "code",
   "execution_count": null,
   "metadata": {},
   "outputs": [],
   "source": [
    "import numpy as np \n",
    "import time \n",
    "from collections import defaultdict\n",
    "from params import Color, _color\n",
    "from typing import Any\n",
    "\"\"\" \n",
    "=====================================================================================\n",
    "Logic \n",
    "1. World is created with spaces.\n",
    "2. Cell is created with world.\n",
    "3. Cell is born in the world.\n",
    "4. Cell dies in the world.\n",
    "5. Cell can be born in the world.\n",
    "\"\"\"\n",
    "\n",
    "type _location = None | np.ndarray[tuple[int, int], np.dtype[np.signedinteger]]\n",
    "type _face = int | None | np.ndarray\n",
    "\n",
    "\n",
    "class World: \n",
    "\n",
    "    type _state = int | str \n",
    "    \"\"\"\n",
    "    World is where all the object lives and dies.\n",
    "    It gives spaces and some other informations.\n",
    "    You can set the size of the world.\n",
    "    \"\"\"\n",
    "    def __init__(self, size: int=10) -> None:\n",
    "        self.HEIGHT = size \n",
    "        self.WIDTH = size\n",
    "\n",
    "        self.spaces: np.ndarray[tuple[int, int], np.dtype[Any]] = np.zeros((self.HEIGHT, self.WIDTH), dtype=object)\n",
    "\n",
    "        self.matter: dict[str, list[Matter | Cell | Food]] = defaultdict(list)\n",
    "        self.matter_count: dict[str, int] = defaultdict(int)\n",
    "\n",
    "        self.states = [\"Cell\", 0, \"Food\", -1]\n",
    "        self.state_reward_map: dict = {\"Cell\": -1, 0: 1, \"Food\": 10, -1: -1}\n",
    "\n",
    "\n",
    "    def get_avialable_spaces(self) -> np.ndarray[_location, np.dtype[np.int_]]:\n",
    "        \"\"\"Search a free space and give it back.\"\"\"\n",
    "        return np.stack(np.where(self.spaces == 0), axis=1)\n",
    "\n",
    "\n",
    "\n",
    "class Matter:\n",
    "    \"\"\"\n",
    "    Proto type of life.\n",
    "    Sub classes: Cell, Food\n",
    "    \"\"\"\n",
    "    def __init__(self, world: World) -> None:\n",
    "        self.world: World = world\n",
    "        self.is_alive: bool = False \n",
    "        self.current_location: _location \n",
    "        self.color: _color = Color.BLACK\n",
    "        self.age: int = 0 \n",
    "        self.born_time: float = 0.0\n",
    "        self.name: str = '' \n",
    "        self.class_name: str = self.__class__.__qualname__\n",
    "\n",
    "        # If there's free space, then it can born.\n",
    "        available_space = self.get_space()\n",
    "        self.born(available_space)\n",
    "\n",
    "    def get_space(self) -> _location | None:\n",
    "        available_spaces = self.world.get_avialable_spaces()\n",
    "        len_available_space = len(available_spaces)\n",
    "        if len_available_space == 0:\n",
    "            return None\n",
    "        else:\n",
    "            location = np.random.choice(len_available_space)\n",
    "            return available_spaces[location]\n",
    "        \n",
    "    def born(self, available_space: _location) -> None:\n",
    "        if available_space is None:\n",
    "            raise Exception(\"No available space\")\n",
    "        else:\n",
    "            self.world.spaces[available_space[0], available_space[1]] = self \n",
    "            self.world.matter[self.class_name].append(self) # for examples: 'Cell': [instacnes..]\n",
    "            self.world.matter_count[self.class_name] += 1\n",
    "\n",
    "            self.is_alive = True\n",
    "            self.current_location = available_space\n",
    "            self.born_time = time.time()\n",
    "            self.name = f\"{self.class_name}_{self.world.matter_count[self.class_name]}\"\n",
    "            self.color = Color.COLORS[np.random.choice(len(Color.COLORS))] \n",
    "    \n",
    "    def die(self) -> None: \n",
    "        if self.is_alive: \n",
    "            # row, col = self.current_location\n",
    "            if self.world.spaces[self.current_location] == self:\n",
    "                self.world.spaces[self.current_location] = 0\n",
    "            \n",
    "            self.is_alive = False\n",
    "            self.color = Color.BLACK \n",
    "            self.current_location = None \n",
    "\n",
    "            if self in self.world.matter[self.class_name]:\n",
    "                self.world.matter[self.class_name].remove(self)\n",
    "        else:\n",
    "            print(f\"{self.name} is already dead\")\n",
    "\n",
    "    def __repr__(self):\n",
    "        if self.is_alive:\n",
    "            return f\"{self.name}\" \n",
    "        else: \n",
    "            return f\"Unborn {self.class_name}\"\n",
    "\n",
    "\n",
    "class Food(Matter):\n",
    "    \"\"\"\n",
    "    food for cell\n",
    "    1. location\n",
    "    2. state {is_alive, dead}\n",
    "    \"\"\"\n",
    "    def __init__(self, world: World):\n",
    "        super().__init__(world)\n",
    "        self.energy: int = 20\n",
    "\n",
    "\n",
    "class Cell(Matter): \n",
    "    \"\"\" \n",
    "    Cell is a living one. it's born with name, age, color, face(direction).\n",
    "    1. born: born with a given world\n",
    "    2. die: die itself\n",
    "    3. move: move somewhere\n",
    "    4. eat\n",
    "    \"\"\"\n",
    "    def __init__(self, world: World) -> None:\n",
    "        # Only for cell(mover).\n",
    "        self.face: _face = 1 \n",
    "        self.energy = 50\n",
    "        self.MAX_ENERGY = 100\n",
    "\n",
    "        super().__init__(world)\n",
    "\n",
    "        # States: {0: Empty, 1: Other Cell, 2: Food, 3: Wall(out boundary)}\n",
    "        self.states = [0, 1, 2, 3]\n",
    "        # Actions: {1. turn face, 2. move}\n",
    "        self.actions = [\"turn_face\", \"go\"]\n",
    "        \n",
    "        # Memory\n",
    "        self.memory = np.zeros((len(self.states), len(self.actions)), dtype=int)\n",
    "\n",
    "    def born(self, available_space) -> None:\n",
    "        super().born(available_space)\n",
    "        self.face = np.random.choice([0, 1, 2, 3])    # clock wise: front=0 -> right=1 -> back=2 -> left=3\n",
    "\n",
    "    def sense_front(self, sense_reach: int = 1) ->  _location | None:\n",
    "        \"\"\"\n",
    "        Try to move with face(direction), get new location to move.\n",
    "        There's some rules. It cant' move beyond the world map. So, the widht and height of the world.\n",
    "        Secondly, it should have a logic to bump with other cells.\n",
    "        \n",
    "        Parameters\n",
    "        ----------\n",
    "\n",
    "        sense_reach: how far to sense (window size)\n",
    "        \"\"\"\n",
    "        if self.face == 0:  # front\n",
    "            new_location = self.current_location + np.array([-sense_reach, 0])\n",
    "        elif self.face == 1:    # right\n",
    "            new_location = self.current_location + np.array([0, sense_reach])\n",
    "        elif self.face == 2:    # back\n",
    "            new_location = self.current_location + np.array([sense_reach, 0])\n",
    "        elif self.face == 3:    # left\n",
    "            new_location = self.current_location + np.array([0, -sense_reach]) \n",
    "        else:\n",
    "            raise Exception(\"Unknown face value. It must be {0, 1, 2, 3}\")\n",
    "        return new_location\n",
    "        \n",
    "    def ask_next_move(self) -> None:\n",
    "        \"\"\" \n",
    "        1. Cell sends a location of next move to World.\n",
    "        2. World respond to the cell, what's in the location it asked.\n",
    "        \"\"\"\n",
    "        new_location = self.sense_front()\n",
    "\n",
    "        if new_location is not None:\n",
    "            inside_world = 0 <= new_location[0] < self.world.HEIGHT and 0 <= new_location[1] < self.world.WIDTH\n",
    "            \n",
    "            if inside_world:\n",
    "                whats_next = self.world.spaces[new_location[0], new_location[1]] \n",
    "                # If it's empty then go. 0 means empty, so free to move\n",
    "                if whats_next == 0: \n",
    "                    self.move(new_location)\n",
    "                # If it's a food then eat it.\n",
    "                elif isinstance(whats_next, Food):\n",
    "                    self.eat(whats_next)\n",
    "                else:\n",
    "                    self.turn_face()\n",
    "            else:\n",
    "                self.turn_face()\n",
    "\n",
    "    # RL Function 1\n",
    "    def ask_whats_next(self, new_location: _location) -> World._state | np.ndarray | None:\n",
    "        if new_location is not None:\n",
    "            inside_world = 0 <= new_location[0] < self.world.HEIGHT and 0 <= new_location[1] < self.world.WIDTH\n",
    "            if inside_world:\n",
    "                obj =  self.world.spaces[new_location[0], new_location[1]] \n",
    "                if obj == 0:\n",
    "                    return self.states[0]\n",
    "                elif type(obj) == Cell:\n",
    "                    return self.states[1]\n",
    "                elif type(obj) == Food:\n",
    "                    return self.states[2]\n",
    "            else:\n",
    "                return self.states[3] # outside world means wall(block) = 3\n",
    "        else: \n",
    "            return None\n",
    "\n",
    "    # RL Function 2\n",
    "    def expect(self, next_state):\n",
    "        history_of_state = self.memory[next_state]\n",
    "        return history_of_state\n",
    "\n",
    "    # RL Function 3\n",
    "    def best_action(self, history_of_state: np.ndarray[tuple[int, int], np.dtype]):\n",
    "        return np.argmax(history_of_state)\n",
    "    \n",
    "    # RL Function 4\n",
    "    def do_action(self, action, new_location):\n",
    "        action = self.actions[action]\n",
    "        if action == \"turn_face\":\n",
    "            self.turn_face()\n",
    "        elif action == \"go\":\n",
    "            self.move(new_location)\n",
    "        else:\n",
    "            raise Exception(\"Invalid action\")\n",
    "\n",
    "    # RL Excute\n",
    "    def do_rl(self):\n",
    "        new_location = self.sense_front()\n",
    "        next_state = self.ask_whats_next(new_location)\n",
    "        self.expect(next_state)\n",
    "\n",
    "    # Action 1\n",
    "    def move(self, new_location) -> None:\n",
    "        # Clear old location\n",
    "        if self.current_location is not None:\n",
    "            row, col = self.current_location \n",
    "            if self.world.spaces[row, col] == self:\n",
    "                self.world.spaces[row, col ] = 0\n",
    "        \n",
    "        # Update world spaces info\n",
    "        self.current_location = new_location\n",
    "        self.world.spaces[new_location[0], new_location[1]] = self\n",
    "\n",
    "        # consumtion and aging option: age +1 per a move.\n",
    "        # self.age += 1\n",
    "        self.energy -= 1\n",
    "    \n",
    "    # Action 2\n",
    "    def turn_face(self, new_face: _face = None) -> None:\n",
    "        # random choice\n",
    "        if new_face is None:\n",
    "            new_face = np.where(self.face != [0, 1, 2, 3])[0] # except its previous face\n",
    "        self.face = np.random.choice(new_face)\n",
    "\n",
    "    def eat(self, food: Food) -> None:\n",
    "        self.energy += food.energy\n",
    "        food.die()\n",
    "\n",
    "    # Aging system\n",
    "    def aging(self) -> None:\n",
    "        current_time = time.time()\n",
    "        elapsed_time = np.round(current_time - self.born_time, 2)\n",
    "\n",
    "        if self.is_alive and elapsed_time % 5:\n",
    "            self.age += 1 \n",
    "            self.color = self.color * 0.975\n",
    "\n",
    "            if self.age > 100:\n",
    "                self.die()\n",
    "    "
   ]
  },
  {
   "cell_type": "code",
   "execution_count": 113,
   "metadata": {},
   "outputs": [],
   "source": [
    "w = World(2)\n",
    "c1 = Cell(w)\n",
    "c2 = Cell(w)\n",
    "f1 = Food(w)\n",
    "f2 = Food(w)"
   ]
  },
  {
   "cell_type": "code",
   "execution_count": 114,
   "metadata": {},
   "outputs": [
    {
     "data": {
      "text/plain": [
       "(array([[Cell_2, Food_2],\n",
       "        [Food_1, Cell_1]], dtype=object),\n",
       " 3,\n",
       " array([[0, 0],\n",
       "        [0, 0],\n",
       "        [0, 0],\n",
       "        [0, 0]]))"
      ]
     },
     "execution_count": 114,
     "metadata": {},
     "output_type": "execute_result"
    }
   ],
   "source": [
    "w.spaces, c1.face, c1.memory"
   ]
  },
  {
   "cell_type": "code",
   "execution_count": 115,
   "metadata": {},
   "outputs": [
    {
     "data": {
      "text/plain": [
       "array([1, 0])"
      ]
     },
     "execution_count": 115,
     "metadata": {},
     "output_type": "execute_result"
    }
   ],
   "source": [
    "new_location = c1.sense_front()\n",
    "new_location"
   ]
  },
  {
   "cell_type": "code",
   "execution_count": 116,
   "metadata": {},
   "outputs": [
    {
     "data": {
      "text/plain": [
       "2"
      ]
     },
     "execution_count": 116,
     "metadata": {},
     "output_type": "execute_result"
    }
   ],
   "source": [
    "next_state = c1.ask_whats_next(new_location) \n",
    "next_state "
   ]
  },
  {
   "cell_type": "code",
   "execution_count": 117,
   "metadata": {},
   "outputs": [
    {
     "data": {
      "text/plain": [
       "array([0, 0])"
      ]
     },
     "execution_count": 117,
     "metadata": {},
     "output_type": "execute_result"
    }
   ],
   "source": [
    "history = c1.expect(next_state)\n",
    "history"
   ]
  },
  {
   "cell_type": "code",
   "execution_count": 118,
   "metadata": {},
   "outputs": [
    {
     "data": {
      "text/plain": [
       "0"
      ]
     },
     "execution_count": 118,
     "metadata": {},
     "output_type": "execute_result"
    }
   ],
   "source": [
    "c1.best_action(history)"
   ]
  },
  {
   "cell_type": "code",
   "execution_count": null,
   "metadata": {},
   "outputs": [
    {
     "ename": "IndexError",
     "evalue": "index 2 is out of bounds for axis 0 with size 2",
     "output_type": "error",
     "traceback": [
      "\u001b[0;31m---------------------------------------------------------------------------\u001b[0m",
      "\u001b[0;31mIndexError\u001b[0m                                Traceback (most recent call last)",
      "Cell \u001b[0;32mIn[23], line 2\u001b[0m\n\u001b[1;32m      1\u001b[0m new_location \u001b[38;5;241m=\u001b[39m c1\u001b[38;5;241m.\u001b[39msense_front()\n\u001b[0;32m----> 2\u001b[0m next_state \u001b[38;5;241m=\u001b[39m c1\u001b[38;5;241m.\u001b[39mask_whats_next(new_location)\n\u001b[1;32m      3\u001b[0m history \u001b[38;5;241m=\u001b[39m c1\u001b[38;5;241m.\u001b[39mexpect(next_state)\n\u001b[1;32m      4\u001b[0m c1\u001b[38;5;241m.\u001b[39mdo_action(history, new_location)\n",
      "Cell \u001b[0;32mIn[17], line 194\u001b[0m, in \u001b[0;36mCell.ask_whats_next\u001b[0;34m(self, new_location)\u001b[0m\n\u001b[1;32m    193\u001b[0m \u001b[38;5;28;01mdef\u001b[39;00m \u001b[38;5;21mask_whats_next\u001b[39m(\u001b[38;5;28mself\u001b[39m, new_location):\n\u001b[0;32m--> 194\u001b[0m     \u001b[38;5;28;01mreturn\u001b[39;00m \u001b[38;5;28mself\u001b[39m\u001b[38;5;241m.\u001b[39mworld\u001b[38;5;241m.\u001b[39mspaces[new_location]\n",
      "\u001b[0;31mIndexError\u001b[0m: index 2 is out of bounds for axis 0 with size 2"
     ]
    }
   ],
   "source": [
    "new_location = c1.sense_front()\n",
    "next_state = c1.ask_whats_next(new_location) \n",
    "history = c1.expect(next_state)\n",
    "c1.do_action(history, new_location) \n",
    "\n"
   ]
  },
  {
   "cell_type": "code",
   "execution_count": 103,
   "metadata": {},
   "outputs": [
    {
     "data": {
      "text/plain": [
       "0"
      ]
     },
     "execution_count": 103,
     "metadata": {},
     "output_type": "execute_result"
    }
   ],
   "source": [
    "c1.memory[c1.current_location[0], c1.current_location[1]]"
   ]
  },
  {
   "cell_type": "code",
   "execution_count": 104,
   "metadata": {},
   "outputs": [
    {
     "data": {
      "text/plain": [
       "array([[0, 0],\n",
       "       [0, 0],\n",
       "       [0, 0],\n",
       "       [0, 0]])"
      ]
     },
     "execution_count": 104,
     "metadata": {},
     "output_type": "execute_result"
    }
   ],
   "source": [
    "c1.memory"
   ]
  },
  {
   "cell_type": "code",
   "execution_count": 117,
   "metadata": {},
   "outputs": [
    {
     "data": {
      "text/plain": [
       "array([1, 0])"
      ]
     },
     "execution_count": 117,
     "metadata": {},
     "output_type": "execute_result"
    }
   ],
   "source": [
    "c1.current_location"
   ]
  },
  {
   "cell_type": "code",
   "execution_count": 126,
   "metadata": {},
   "outputs": [
    {
     "data": {
      "text/plain": [
       "True"
      ]
     },
     "execution_count": 126,
     "metadata": {},
     "output_type": "execute_result"
    }
   ],
   "source": [
    "isinstance(next_state, Food)"
   ]
  },
  {
   "cell_type": "code",
   "execution_count": null,
   "metadata": {},
   "outputs": [],
   "source": [
    "\n",
    "class X:\n",
    "    x: int "
   ]
  },
  {
   "cell_type": "code",
   "execution_count": 5,
   "metadata": {},
   "outputs": [],
   "source": [
    "type Life[G] = int "
   ]
  },
  {
   "cell_type": "code",
   "execution_count": 7,
   "metadata": {},
   "outputs": [
    {
     "data": {
      "text/plain": [
       "typing.TypeAliasType"
      ]
     },
     "execution_count": 7,
     "metadata": {},
     "output_type": "execute_result"
    }
   ],
   "source": [
    "type(Life) "
   ]
  },
  {
   "cell_type": "code",
   "execution_count": 4,
   "metadata": {},
   "outputs": [
    {
     "ename": "NameError",
     "evalue": "name 'T' is not defined",
     "output_type": "error",
     "traceback": [
      "\u001b[0;31m---------------------------------------------------------------------------\u001b[0m",
      "\u001b[0;31mNameError\u001b[0m                                 Traceback (most recent call last)",
      "Cell \u001b[0;32mIn[4], line 1\u001b[0m\n\u001b[0;32m----> 1\u001b[0m T\n",
      "\u001b[0;31mNameError\u001b[0m: name 'T' is not defined"
     ]
    }
   ],
   "source": []
  },
  {
   "cell_type": "code",
   "execution_count": 77,
   "metadata": {},
   "outputs": [],
   "source": [
    "memory = np.zeros((4, 2))"
   ]
  },
  {
   "cell_type": "code",
   "execution_count": 80,
   "metadata": {},
   "outputs": [
    {
     "data": {
      "text/plain": [
       "0.0"
      ]
     },
     "execution_count": 80,
     "metadata": {},
     "output_type": "execute_result"
    }
   ],
   "source": [
    "memory[0][0]"
   ]
  },
  {
   "cell_type": "code",
   "execution_count": null,
   "metadata": {},
   "outputs": [],
   "source": []
  }
 ],
 "metadata": {
  "kernelspec": {
   "display_name": "base",
   "language": "python",
   "name": "python3"
  },
  "language_info": {
   "codemirror_mode": {
    "name": "ipython",
    "version": 3
   },
   "file_extension": ".py",
   "mimetype": "text/x-python",
   "name": "python",
   "nbconvert_exporter": "python",
   "pygments_lexer": "ipython3",
   "version": "3.12.9"
  }
 },
 "nbformat": 4,
 "nbformat_minor": 2
}
