{
 "cells": [
  {
   "cell_type": "code",
   "execution_count": 40,
   "metadata": {},
   "outputs": [],
   "source": [
    "from core import Cell, World, COLORS, Food\n",
    "import numpy as np \n",
    "import time \n",
    "from collections import defaultdict"
   ]
  },
  {
   "cell_type": "code",
   "execution_count": null,
   "metadata": {},
   "outputs": [],
   "source": [
    "import numpy as np \n",
    "import time \n",
    "\n",
    "\"\"\" \n",
    "=====================================================================================\n",
    "Logic \n",
    "1. World is created with spaces.\n",
    "2. Cell is created with world.\n",
    "3. Cell is born in the world.\n",
    "4. Cell dies in the world.\n",
    "5. Cell can be born in the world.\n",
    "\"\"\"\n",
    "\n",
    "#set up the colors\n",
    "WHITE = np.array([255, 255, 255])\n",
    "YELLOW = np.array([255, 255, 0])\n",
    "RED = np.array([255, 0, 0])\n",
    "BLUE = np.array([0, 0, 255])\n",
    "GREEN = np.array([0, 255, 0])\n",
    "BLACK = np.array([0, 0, 0])\n",
    "ORANGE = np.array([255, 128, 0])\n",
    "PURPLE = np.array([128,0,128])\n",
    "\n",
    "COLORS = [RED, BLUE, GREEN, ORANGE, PURPLE]\n",
    "\n",
    "\n",
    "\n",
    "\n",
    "class World: \n",
    "    \"\"\"\n",
    "    World is where all the object lives and dies.\n",
    "    It gives spaces and some other informations.\n",
    "    You can set the size of the world.\n",
    "    \"\"\"\n",
    "    def __init__(self, size: int):\n",
    "        self.HEIGHT = size \n",
    "        self.WIDTH = size\n",
    "\n",
    "        self.spaces: np.ndarray = np.zeros((self.HEIGHT, self.WIDTH), dtype=object)\n",
    "\n",
    "        # self.lifes_ever: int = 0\n",
    "        # self.lifes: list[Cell] = []\n",
    "\n",
    "        # self.foods_ever: int = 0\n",
    "        # self.foods: list[Food] = []\n",
    "\n",
    "        self.matter: dict[str, any] = defaultdict(list)\n",
    "        self.matter_count: dict[str, int] = defaultdict(int)\n",
    "\n",
    "\n",
    "    def get_avialable_spaces(self) -> np.ndarray[np.ndarray[int], np.ndarray[int]]:\n",
    "        \"\"\"Search a free space and give it back.\"\"\"\n",
    "        return np.stack(np.where(self.spaces == 0), axis=1)\n",
    "\n",
    "\n",
    "class Matter:\n",
    "    \"\"\"\n",
    "    Proto type of life.\n",
    "    Sub classes: Cell, Food\n",
    "    \"\"\"\n",
    "    def __init__(self, world: World) -> None:\n",
    "        self.world: World = world\n",
    "        self.alive = False \n",
    "        self.current_location = None \n",
    "        self.color: tuple[int, int, int] = None\n",
    "        self.age: int = 0 \n",
    "        self.born_time: time.time = None \n",
    "        self.name: str = None \n",
    "        self.class_name: str = self.__class__.__qualname__\n",
    "\n",
    "        # If there's free space, then it can born.\n",
    "        available_space = self.get_space()\n",
    "        if available_space is None:\n",
    "            raise Exception(\"No available space\")\n",
    "        else:\n",
    "            self.born(available_space)\n",
    "\n",
    "    def get_space(self) -> None | np.ndarray:\n",
    "        available_spaces = self.world.get_avialable_spaces()\n",
    "        len_available_space = len(available_spaces)\n",
    "        if len_available_space == 0:\n",
    "            return None\n",
    "        else:\n",
    "            location = np.random.choice(len_available_space)\n",
    "            return available_spaces[location]\n",
    "        \n",
    "    def born(self, available_space) -> None:\n",
    "        self.world.spaces[available_space[0], available_space[1]] = self \n",
    "        self.world.matter[self.class_name].append(self) # for examples: 'Cell': [instacnes..]\n",
    "        self.world.matter_count[self.class_name] += 1\n",
    "\n",
    "        self.alive = True\n",
    "        self.current_location = available_space\n",
    "        self.born_time = time.time()\n",
    "        self.name = f\"{self.class_name}_{self.world.matter_count[self.class_name]}\"\n",
    "        self.color = COLORS[np.random.choice(len(COLORS))] \n",
    "    \n",
    "    def die(self) -> None: \n",
    "        if self.alive: \n",
    "            row, col = self.current_location\n",
    "            if self.world.spaces[row, col] == self:\n",
    "                self.world.spaces[row, col] = 0\n",
    "            \n",
    "            self.alive = False\n",
    "            self.color = None \n",
    "            self.current_location = None \n",
    "\n",
    "            if self in self.world.matter[self.class_name]:\n",
    "                self.world.matter[self.class_name].remove(self)\n",
    "        else:\n",
    "            print(f\"{self.type} is already dead\")\n",
    "\n",
    "class Cell(Matter): \n",
    "    \"\"\" \n",
    "    Cell is a living one. it's born with name, age, color, face(direction).\n",
    "    1. born: born with a given world\n",
    "    2. die: die itself\n",
    "    3. move: move somewhere\n",
    "    4. eat\n",
    "       \"\"\"\n",
    "    def __init__(self, world: World) -> None:\n",
    "        # Only for cell(mover).\n",
    "        self.face: int[0, 1, 2, 3] = None \n",
    "\n",
    "        super().__init__(world)\n",
    "\n",
    "\n",
    "        \"\"\" available_space = self.get_space()\n",
    "        if available_space is None:\n",
    "            raise Exception(\"No available space\")\n",
    "        else:\n",
    "            self.born(available_space) \"\"\"\n",
    "\n",
    "    def born(self, available_space) -> None:\n",
    "        super().born(available_space)\n",
    "        # self.world.spaces[available_space[0], available_space[1]] = self \n",
    "        # self.world.lifes.append(self)\n",
    "        # self.world.lifes_ever += 1 \n",
    "        \n",
    "        # self.world.matter[self.class_name].append(self)\n",
    "        # self.world.matter[\"cellc_ever\"]\n",
    "        \n",
    "        # self.alive = True\n",
    "        # self.current_location = available_space\n",
    "        # self.born_time = time.time()\n",
    "        # self.name = f\"Cell_{self.world.lifes_ever}\"\n",
    "        # self.color = COLORS[np.random.choice(len(COLORS))] \n",
    "        \n",
    "        self.face = np.random.choice([0, 1, 2, 3])    # clock wise: front=0 -> right=1 -> back=2 -> left=3\n",
    "\n",
    "    \"\"\" def die(self) -> None:\n",
    "        if self.alive: \n",
    "            row, col = self.current_location\n",
    "            if self.world.spaces[row, col] == self:\n",
    "                self.world.spaces[row, col] = 0\n",
    "            \n",
    "            self.alive = False\n",
    "            self.color = None \n",
    "            self.current_location = None \n",
    "\n",
    "            if self in self.world.lifes:\n",
    "                self.world.lifes.remove(self)\n",
    "        else:\n",
    "            print(\"Cell is already dead\") \"\"\"\n",
    "\n",
    "    \"\"\" def get_space(self) -> None | np.ndarray:\n",
    "        available_spaces = self.world.get_avialable_spaces()\n",
    "        len_available_space = len(available_spaces)\n",
    "        if len_available_space == 0:\n",
    "            return None\n",
    "        else:\n",
    "            location = np.random.choice(len_available_space)\n",
    "            return available_spaces[location] \"\"\"\n",
    "            \n",
    "    def __repr__(self):\n",
    "        if self.alive:\n",
    "            return f\"{self.name}\" \n",
    "        else: \n",
    "            return \"Unborn Cell\"\n",
    "\n",
    "    # Aging system\n",
    "    def aging(self) -> None:\n",
    "        current_time = time.time()\n",
    "        elapsed_time = np.round(current_time - self.born_time, 2)\n",
    "\n",
    "        if self.alive and elapsed_time % 5:\n",
    "            self.age += 1 \n",
    "            self.color = self.color * 0.975\n",
    "\n",
    "            if self.age > 100:\n",
    "                self.die()\n",
    "    \n",
    "    def search_to_move(self):\n",
    "        \"\"\"\n",
    "        Try to move with face(direction), get new location to move.\n",
    "        There's some rules. It cant' move beyond the world map. So, the widht and height of the world.\n",
    "        Secondly, it should have a logic to bump with other cells.\n",
    "        \"\"\"\n",
    "        if self.face == 0:  # front\n",
    "            new_location = self.current_location + np.array([-1, 0])\n",
    "        elif self.face == 1:    # right\n",
    "            new_location = self.current_location + np.array([0, 1])\n",
    "        elif self.face == 2:    # back\n",
    "            new_location = self.current_location + np.array([1, 0])\n",
    "        elif self.face == 3:    # left\n",
    "            new_location = self.current_location + np.array([0, -1]) \n",
    "        else:\n",
    "            raise ValueError(\"Unknown face value. It must be {0, 1, 2, 3}\")\n",
    "        return new_location\n",
    "        \n",
    "    def ask_next_move(self):\n",
    "        \"\"\" \n",
    "        1. Cell sends a location of next move to World.\n",
    "        2. World respond to the cell, what's in the location it asked.\n",
    "        \"\"\"\n",
    "        new_location = self.search_to_move()\n",
    "        if 0 <= new_location[0] < self.world.HEIGHT and 0 <= new_location[1] < self.world.WIDTH:\n",
    "            next_step = self.world.spaces[new_location[0], new_location[1]] \n",
    "\n",
    "            # print(f\"next_step: {next_step}\")\n",
    "\n",
    "            # If it's empty then go. 0 means empty, so free to move\n",
    "            if next_step == 0: \n",
    "                self.move(new_location)\n",
    "            # If it's a food then eat it.\n",
    "            elif isinstance(next_step, Food):\n",
    "                self.eat(next_step)\n",
    "            else:\n",
    "                self.turn_face()\n",
    "        else:\n",
    "            self.turn_face()\n",
    "            # print(\"Not available to move next\")\n",
    "\n",
    "    def move(self, new_location):\n",
    "        # Clear old location\n",
    "        row, col = self.current_location \n",
    "        if self.world.spaces[row, col] == self:\n",
    "            self.world.spaces[row, col] = 0\n",
    "        # self.world.spaces = np.where(self.world.spaces == self, 0, self.world.spaces)\n",
    "        \n",
    "        # Update world spaces info\n",
    "        self.current_location = new_location\n",
    "        self.world.spaces[new_location[0], new_location[1]] = self\n",
    "\n",
    "    def turn_face(self) -> None:\n",
    "        # random choice\n",
    "        new_face = np.where(self.face != [0, 1, 2, 3])[0] # except its previous face\n",
    "        self.face = np.random.choice(new_face)\n",
    "\n",
    "    def eat(self, food) -> None:\n",
    "        food.die()\n",
    "\n",
    "\n",
    "class Food(Matter):\n",
    "    \"\"\"\n",
    "    food for cell\n",
    "    1. location\n",
    "    2. state {alive, dead}\n",
    "    \"\"\"\n",
    "    def __init__(self, world: World):\n",
    "        super().__init__(world)\n",
    "        # self.born()\n",
    "\n",
    "    # def born(self):\n",
    "    #     location = self.get_space()\n",
    "    #     if location is None:\n",
    "    #         raise Warning(\"No available space\")\n",
    "    #     else:\n",
    "    #         self.world.foods_ever += 1 \n",
    "    #         self.name = f\"Food_{self.world.foods_ever}\"\n",
    "    #         self.born_time = time.time()\n",
    "\n",
    "    #         self.world.spaces[location[0], location[1]] = self \n",
    "    #         self.current_location = location\n",
    "    #         self.alive = True\n",
    "    #         self.world.foods.append(self)\n",
    "    \n",
    "    \"\"\" def die(self):\n",
    "        if self.alive: \n",
    "            location = self.current_location\n",
    "            self.world.spaces[location[0], location[1]] = 0\n",
    "            self.alive = False\n",
    "            self.color = None \n",
    "            self.world.foods.remove(self)\n",
    "        else:\n",
    "            print(f\"{self} is already dead\") \"\"\"\n",
    "        \n",
    "    def get_space(self):\n",
    "        available_spaces = self.world.get_avialable_spaces()\n",
    "        len_available_space = len(available_spaces)\n",
    "        if len_available_space == 0:\n",
    "            return None\n",
    "        else:\n",
    "            location = np.random.choice(len_available_space)\n",
    "            return available_spaces[location]\n",
    "\n",
    "\n",
    "    def __repr__(self):\n",
    "        if self.alive:\n",
    "            return f\"{self.name}\" \n",
    "        else: \n",
    "            return \"Unborn Cell\"\n",
    "        "
   ]
  },
  {
   "cell_type": "code",
   "execution_count": 231,
   "metadata": {},
   "outputs": [],
   "source": [
    "w = World(4)\n",
    "c1 = Cell(w)\n"
   ]
  },
  {
   "cell_type": "code",
   "execution_count": 242,
   "metadata": {},
   "outputs": [
    {
     "data": {
      "text/plain": [
       "array([[0, 0, 0, 0],\n",
       "       [0, Cell_2, 0, 0],\n",
       "       [0, 0, 0, 0],\n",
       "       [0, 0, Food_1, 0]], dtype=object)"
      ]
     },
     "execution_count": 242,
     "metadata": {},
     "output_type": "execute_result"
    }
   ],
   "source": [
    "w.spaces"
   ]
  },
  {
   "cell_type": "code",
   "execution_count": 243,
   "metadata": {},
   "outputs": [
    {
     "data": {
      "text/plain": [
       "defaultdict(list, {'Cell': [Cell_2], 'Food': [Food_1]})"
      ]
     },
     "execution_count": 243,
     "metadata": {},
     "output_type": "execute_result"
    }
   ],
   "source": [
    "w.matter "
   ]
  },
  {
   "cell_type": "code",
   "execution_count": 234,
   "metadata": {},
   "outputs": [],
   "source": [
    "c2 = Cell(w)"
   ]
  },
  {
   "cell_type": "code",
   "execution_count": 236,
   "metadata": {},
   "outputs": [
    {
     "data": {
      "text/plain": [
       "defaultdict(int, {'Cell': 2})"
      ]
     },
     "execution_count": 236,
     "metadata": {},
     "output_type": "execute_result"
    }
   ],
   "source": [
    "w.matter_count"
   ]
  },
  {
   "cell_type": "code",
   "execution_count": 237,
   "metadata": {},
   "outputs": [
    {
     "data": {
      "text/plain": [
       "2"
      ]
     },
     "execution_count": 237,
     "metadata": {},
     "output_type": "execute_result"
    }
   ],
   "source": [
    "c1.face"
   ]
  },
  {
   "cell_type": "code",
   "execution_count": 238,
   "metadata": {},
   "outputs": [],
   "source": [
    "f1 = Food(w)"
   ]
  },
  {
   "cell_type": "code",
   "execution_count": 241,
   "metadata": {},
   "outputs": [],
   "source": [
    "c1.die()"
   ]
  },
  {
   "cell_type": "code",
   "execution_count": 90,
   "metadata": {},
   "outputs": [
    {
     "data": {
      "text/plain": [
       "__main__.Cell"
      ]
     },
     "execution_count": 90,
     "metadata": {},
     "output_type": "execute_result"
    }
   ],
   "source": [
    "t = type(c3)\n",
    "t "
   ]
  },
  {
   "cell_type": "code",
   "execution_count": 68,
   "metadata": {},
   "outputs": [
    {
     "data": {
      "text/plain": [
       "True"
      ]
     },
     "execution_count": 68,
     "metadata": {},
     "output_type": "execute_result"
    }
   ],
   "source": [
    "t == Cell "
   ]
  },
  {
   "cell_type": "code",
   "execution_count": 72,
   "metadata": {},
   "outputs": [],
   "source": [
    "a = {}"
   ]
  },
  {
   "cell_type": "code",
   "execution_count": 73,
   "metadata": {},
   "outputs": [],
   "source": [
    "a[str(t)] = c3.name "
   ]
  },
  {
   "cell_type": "code",
   "execution_count": 89,
   "metadata": {},
   "outputs": [
    {
     "data": {
      "text/plain": [
       "{\"<class '__main__.Cell'>\": 'Cell_3'}"
      ]
     },
     "execution_count": 89,
     "metadata": {},
     "output_type": "execute_result"
    }
   ],
   "source": [
    "a "
   ]
  },
  {
   "cell_type": "code",
   "execution_count": null,
   "metadata": {},
   "outputs": [],
   "source": []
  },
  {
   "cell_type": "code",
   "execution_count": 97,
   "metadata": {},
   "outputs": [],
   "source": [
    "c4 = Cell(w) "
   ]
  },
  {
   "cell_type": "code",
   "execution_count": 101,
   "metadata": {},
   "outputs": [
    {
     "data": {
      "text/plain": [
       "'Cell'"
      ]
     },
     "execution_count": 101,
     "metadata": {},
     "output_type": "execute_result"
    }
   ],
   "source": [
    "c4.__class__.__qualname__"
   ]
  },
  {
   "cell_type": "code",
   "execution_count": null,
   "metadata": {},
   "outputs": [
    {
     "data": {
      "text/plain": [
       "array([[0, Cell_4, 0, 0],\n",
       "       [0, 0, Cell_5, 0],\n",
       "       [Cell_1, 0, 0, 0],\n",
       "       [Cell_3, 0, Cell_2, 0]], dtype=object)"
      ]
     },
     "execution_count": 84,
     "metadata": {},
     "output_type": "execute_result"
    }
   ],
   "source": [
    " "
   ]
  },
  {
   "cell_type": "code",
   "execution_count": null,
   "metadata": {},
   "outputs": [],
   "source": []
  }
 ],
 "metadata": {
  "kernelspec": {
   "display_name": "base",
   "language": "python",
   "name": "python3"
  },
  "language_info": {
   "codemirror_mode": {
    "name": "ipython",
    "version": 3
   },
   "file_extension": ".py",
   "mimetype": "text/x-python",
   "name": "python",
   "nbconvert_exporter": "python",
   "pygments_lexer": "ipython3",
   "version": "3.12.9"
  }
 },
 "nbformat": 4,
 "nbformat_minor": 2
}
