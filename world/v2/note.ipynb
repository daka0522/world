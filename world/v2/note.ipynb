{
 "cells": [
  {
   "cell_type": "code",
   "execution_count": 12,
   "metadata": {},
   "outputs": [],
   "source": [
    "from core import Cell, World, COLORS\n",
    "import numpy as np \n",
    "import time "
   ]
  },
  {
   "cell_type": "code",
   "execution_count": null,
   "metadata": {},
   "outputs": [],
   "source": [
    "class Cell: \n",
    "    \"\"\" \n",
    "    Cell is a living one. it's born with name, age, color, face(direction).\n",
    "    1. born: born with a given world\n",
    "    2. die: die itself\n",
    "    3. move: move somewhere\n",
    "       \"\"\"\n",
    "    def __init__(self, world: World) -> None:\n",
    "        self.world = world\n",
    "        self.alive = False \n",
    "        self.current_location = None \n",
    "        self.color = None \n",
    "        self.age = 0\n",
    "        self.born_time = None\n",
    "        self.face = None \n",
    "\n",
    "        available_space = self.get_space()\n",
    "        if available_space is not None:\n",
    "            self.born(available_space)\n",
    "        else:\n",
    "            raise(\"No available space\")\n",
    "\n",
    "    def born(self, available_space) -> None:\n",
    "        self.world.spaces[available_space[0], available_space[1]] = self \n",
    "        self.world.lifes.append(self)\n",
    "        self.world.lifes_ever += 1 \n",
    "        \n",
    "        self.alive = True\n",
    "        self.current_location = available_space\n",
    "        self.born_time = time.time()\n",
    "        self.face = np.random.choice([0, 1, 2, 3])    # clock wise: front=0 -> right=1 -> back=2 -> left=3\n",
    "        self.name = f\"Cell_{self.world.lifes_ever}\"\n",
    "        self.color = COLORS[np.random.choice(len(COLORS))] \n",
    "\n",
    "    def die(self) -> None:\n",
    "        if self.alive: \n",
    "            location = np.where(self.world.spaces == self)\n",
    "            self.world.spaces[location[0], location[1]] = 0\n",
    "            self.alive = False\n",
    "            self.color = None \n",
    "        else:\n",
    "            print(\"Cell is already dead\")\n",
    "\n",
    "    def get_space(self) -> None | np.ndarray:\n",
    "        available_spaces = self.world.get_avialable_spaces()\n",
    "        len_available_space = len(available_spaces)\n",
    "        if len_available_space == 0:\n",
    "            return None\n",
    "        else:\n",
    "            location = np.random.choice(len_available_space)\n",
    "            return available_spaces[location]\n",
    "            \n",
    "    def __repr__(self):\n",
    "        if self.alive:\n",
    "            return f\"{self.name}\" \n",
    "        else: \n",
    "            return \"Unborn Cell\"\n",
    "\n",
    "    # Aging system\n",
    "    def aging(self) -> None:\n",
    "        current_time = time.time()\n",
    "        elapsed_time = np.round(current_time - self.born_time, 2)\n",
    "\n",
    "        if self.alive and elapsed_time % 5:\n",
    "            self.age += 1 \n",
    "            self.color = self.color * 0.9\n",
    "\n",
    "            if self.age > 10:\n",
    "                self.die()\n",
    "    \n",
    "    def search_to_move(self):\n",
    "        \"\"\"\n",
    "        Try to move with face(direction), get new location to move.\n",
    "        There's some rules. It cant' move beyond the world mpa. So, the widht and height of the world.\n",
    "        Secondly, it should have a logic to bump with other cells.\n",
    "        \"\"\"\n",
    "        if self.face == 0:  # front\n",
    "            new_location = self.current_location + np.array([-1, 0])\n",
    "        elif self.face == 1:    # right\n",
    "            new_location = self.current_location + np.array([0, 1])\n",
    "        elif self.face == 2:    # back\n",
    "            new_location = self.current_location + np.array([1, 0])\n",
    "        elif self.face == 3:    # left\n",
    "            new_location = self.current_location + np.array([0, -1]) \n",
    "        else:\n",
    "            raise ValueError(\"Unknown face value. It must be {0, 1, 2, 3}\")\n",
    "        \n",
    "        return new_location\n",
    "\n",
    "        \"\"\" if 0 <= new_location[0] < self.world.HEIGHT and 0 <= new_location[1] < self.world.WIDTH:\n",
    "            # print(f\"Can move to {new_location}\")\n",
    "\n",
    "            # if move to new location, then update to self.world spaces. 1.remove past location, 2.add new location\n",
    "            self.world.spaces = np.where(self.world.spaces == self, 0, self.world.spaces)\n",
    "            self.world.spaces[new_location[0], new_location[1]] = self\n",
    "\n",
    "            return new_location\n",
    "        else:\n",
    "            print(f\"Impossible to move to {new_location}. Please turn your face.\")\n",
    "            self.turn_face()\n",
    "            return self.current_location \"\"\"\n",
    "        \n",
    "    def ask_next_move(self):\n",
    "        \"\"\" \n",
    "        1. Cell sends a location of next move to World.\n",
    "        2. World respond to the cell, what's in the location it asked.\n",
    "        \"\"\"\n",
    "        new_location = self.search_to_move()\n",
    "        if 0 <= new_location[0] < self.world.HEIGHT and 0 <= new_location[1] < self.world.WIDTH:\n",
    "            next_step = self.world.spaces[new_location[0], new_location[1]] \n",
    "\n",
    "            print(f\"search_to_move: {self.search_to_move()}\")\n",
    "            print(f\"next_step: {next_step}\")\n",
    "\n",
    "            if next_step == 0: # 0 means empty, so free to move\n",
    "                self.move(new_location)\n",
    "        else:\n",
    "            self.turn_face()\n",
    "            print(\"Not available to move next\")\n",
    "\n",
    "    def move(self, new_location):\n",
    "        self.current_location = new_location\n",
    "\n",
    "        # Update world spaces info\n",
    "        self.world.spaces = np.where(self.world.spaces == self, 0, self.world.spaces)\n",
    "        self.world.spaces[new_location[0], new_location[1]] = self\n",
    "\n",
    "\n",
    "\n",
    "    def turn_face(self):\n",
    "        # random choice\n",
    "        new_face = np.where(self.face != [0, 1, 2, 3])[0] # except its previous face\n",
    "        self.face = np.random.choice(new_face)"
   ]
  },
  {
   "cell_type": "code",
   "execution_count": 95,
   "metadata": {},
   "outputs": [],
   "source": [
    "world = World()\n",
    "c1 = Cell(world)\n",
    "c2 = Cell(world)\n"
   ]
  },
  {
   "cell_type": "code",
   "execution_count": 149,
   "metadata": {},
   "outputs": [
    {
     "data": {
      "text/plain": [
       "array([[0, 0, 0, 0],\n",
       "       [0, 0, 0, 0],\n",
       "       [0, 0, Cell_2, 0],\n",
       "       [0, Cell_1, 0, 0]], dtype=object)"
      ]
     },
     "execution_count": 149,
     "metadata": {},
     "output_type": "execute_result"
    }
   ],
   "source": [
    "world.spaces"
   ]
  },
  {
   "cell_type": "code",
   "execution_count": 150,
   "metadata": {},
   "outputs": [
    {
     "data": {
      "text/plain": [
       "1"
      ]
     },
     "execution_count": 150,
     "metadata": {},
     "output_type": "execute_result"
    }
   ],
   "source": [
    "c1.face "
   ]
  },
  {
   "cell_type": "code",
   "execution_count": 151,
   "metadata": {},
   "outputs": [
    {
     "data": {
      "text/plain": [
       "array([3, 1])"
      ]
     },
     "execution_count": 151,
     "metadata": {},
     "output_type": "execute_result"
    }
   ],
   "source": [
    "c1.current_location"
   ]
  },
  {
   "cell_type": "code",
   "execution_count": 152,
   "metadata": {},
   "outputs": [
    {
     "name": "stdout",
     "output_type": "stream",
     "text": [
      "search_to_move: [3 2]\n",
      "next_step: 0\n"
     ]
    }
   ],
   "source": [
    "c1.ask_next_move() "
   ]
  },
  {
   "cell_type": "code",
   "execution_count": null,
   "metadata": {},
   "outputs": [
    {
     "name": "stdout",
     "output_type": "stream",
     "text": [
      "search_to_move: [1 1]\n",
      "0\n"
     ]
    }
   ],
   "source": [
    "c1.ask_ne"
   ]
  },
  {
   "cell_type": "code",
   "execution_count": null,
   "metadata": {},
   "outputs": [
    {
     "data": {
      "text/plain": [
       "Cell_2"
      ]
     },
     "execution_count": 48,
     "metadata": {},
     "output_type": "execute_result"
    }
   ],
   "source": [
    "\n",
    "c2 "
   ]
  },
  {
   "cell_type": "code",
   "execution_count": 50,
   "metadata": {},
   "outputs": [
    {
     "data": {
      "text/plain": [
       "array([[0, 0, 0, '0-3'],\n",
       "       [0, 0, 0, 0],\n",
       "       [0, 0, Cell_2, Cell_1],\n",
       "       ['@', 0, 0, '@']], dtype=object)"
      ]
     },
     "execution_count": 50,
     "metadata": {},
     "output_type": "execute_result"
    }
   ],
   "source": [
    "world.spaces "
   ]
  },
  {
   "cell_type": "code",
   "execution_count": 153,
   "metadata": {},
   "outputs": [
    {
     "data": {
      "text/plain": [
       "[1, 2, 3]"
      ]
     },
     "execution_count": 153,
     "metadata": {},
     "output_type": "execute_result"
    }
   ],
   "source": [
    "[f for f in [0, 1, 2, 3] if f != 0]"
   ]
  },
  {
   "cell_type": "code",
   "execution_count": 185,
   "metadata": {},
   "outputs": [],
   "source": [
    " l = [0, 1, 2, 3]"
   ]
  },
  {
   "cell_type": "code",
   "execution_count": 186,
   "metadata": {},
   "outputs": [],
   "source": [
    "l.remove(3)"
   ]
  },
  {
   "cell_type": "code",
   "execution_count": 192,
   "metadata": {},
   "outputs": [],
   "source": [
    "a = [0, 1, 2, 3].remove(0)"
   ]
  },
  {
   "cell_type": "code",
   "execution_count": 189,
   "metadata": {},
   "outputs": [
    {
     "ename": "ValueError",
     "evalue": "a must be 1-dimensional or an integer",
     "output_type": "error",
     "traceback": [
      "\u001b[0;31m---------------------------------------------------------------------------\u001b[0m",
      "\u001b[0;31mTypeError\u001b[0m                                 Traceback (most recent call last)",
      "File \u001b[0;32mnumpy/random/mtrand.pyx:941\u001b[0m, in \u001b[0;36mnumpy.random.mtrand.RandomState.choice\u001b[0;34m()\u001b[0m\n",
      "\u001b[0;31mTypeError\u001b[0m: 'NoneType' object cannot be interpreted as an integer",
      "\nDuring handling of the above exception, another exception occurred:\n",
      "\u001b[0;31mValueError\u001b[0m                                Traceback (most recent call last)",
      "Cell \u001b[0;32mIn[189], line 1\u001b[0m\n\u001b[0;32m----> 1\u001b[0m np\u001b[38;5;241m.\u001b[39mrandom\u001b[38;5;241m.\u001b[39mchoice([\u001b[38;5;241m0\u001b[39m, \u001b[38;5;241m1\u001b[39m, \u001b[38;5;241m2\u001b[39m, \u001b[38;5;241m3\u001b[39m]\u001b[38;5;241m.\u001b[39mremove(\u001b[38;5;241m0\u001b[39m))\n",
      "File \u001b[0;32mnumpy/random/mtrand.pyx:943\u001b[0m, in \u001b[0;36mnumpy.random.mtrand.RandomState.choice\u001b[0;34m()\u001b[0m\n",
      "\u001b[0;31mValueError\u001b[0m: a must be 1-dimensional or an integer"
     ]
    }
   ],
   "source": [
    "np.random.choice([0, 1, 2, 3].remove(0))"
   ]
  },
  {
   "cell_type": "code",
   "execution_count": null,
   "metadata": {},
   "outputs": [],
   "source": []
  },
  {
   "cell_type": "code",
   "execution_count": null,
   "metadata": {},
   "outputs": [],
   "source": []
  }
 ],
 "metadata": {
  "kernelspec": {
   "display_name": "base",
   "language": "python",
   "name": "python3"
  },
  "language_info": {
   "codemirror_mode": {
    "name": "ipython",
    "version": 3
   },
   "file_extension": ".py",
   "mimetype": "text/x-python",
   "name": "python",
   "nbconvert_exporter": "python",
   "pygments_lexer": "ipython3",
   "version": "3.12.9"
  }
 },
 "nbformat": 4,
 "nbformat_minor": 2
}
