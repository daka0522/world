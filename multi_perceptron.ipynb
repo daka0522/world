{
 "cells": [
  {
   "cell_type": "markdown",
   "metadata": {},
   "source": [
    "# Mulit Perceptron\n",
    "## 모두의 딥러닝 8장, 조태호\n",
    "### XOR gate using other gates {AND, OR, NAND, NOR}\n"
   ]
  },
  {
   "cell_type": "code",
   "execution_count": 20,
   "metadata": {},
   "outputs": [],
   "source": [
    "import numpy as np \n",
    "import typing"
   ]
  },
  {
   "cell_type": "code",
   "execution_count": 37,
   "metadata": {},
   "outputs": [],
   "source": [
    "type Binary = int "
   ]
  },
  {
   "cell_type": "code",
   "execution_count": 70,
   "metadata": {},
   "outputs": [],
   "source": [
    "\n",
    "\n",
    "def and_gate(x1: Binary, x2:Binary):\n",
    "    if x1 ==1 and x2 == 1:\n",
    "        return 1 \n",
    "    else: \n",
    "        return 0 \n",
    "\n",
    "def or_gate(x1: Binary, x2: Binary):\n",
    "    if x1 ==0 and x2 == 0:\n",
    "        return 0\n",
    "    else:\n",
    "        return 1 \n",
    "\n",
    "def nand_gate(x1, x2):\n",
    "    if x1 ==1 and x2 == 1:\n",
    "        return 0 \n",
    "    else: \n",
    "        return 1\n",
    "    \n",
    "def nor_gate(x1, x2):\n",
    "    if x1 ==0 and x2 == 0:\n",
    "        return 1 \n",
    "    else:\n",
    "        return 0\n",
    "\n"
   ]
  },
  {
   "cell_type": "code",
   "execution_count": 75,
   "metadata": {},
   "outputs": [
    {
     "name": "stdout",
     "output_type": "stream",
     "text": [
      "x1, x2: ((0, 0)), NAND(x1, x2): 1, OR(x1, x2): 0, AND(NAND, OR): 0\n"
     ]
    }
   ],
   "source": [
    "# nand & or -> and\n",
    "x1 = 0\n",
    "x2 = 0\n",
    "\n",
    "x3 = nand_gate(x1, x2)\n",
    "x4 = or_gate(x1 ,x2)\n",
    "\n",
    "x5 = and_gate(x3, x4)\n",
    "\n",
    "print(f\"x1, x2: ({x1, x2}), NAND(x1, x2): {x3}, OR(x1, x2): {x4}, AND(NAND, OR): {x5}\")"
   ]
  },
  {
   "cell_type": "code",
   "execution_count": 81,
   "metadata": {},
   "outputs": [],
   "source": [
    "def xor_gate(x1, x2):\n",
    "    y1 =nand_gate(x1, x2)\n",
    "    y2 = or_gate(x1, x2)\n",
    "\n",
    "    return and_gate(y1, y2)\n"
   ]
  },
  {
   "cell_type": "code",
   "execution_count": 82,
   "metadata": {},
   "outputs": [],
   "source": [
    "A_B = [(0, 0), (0, 1), (1, 0), (1, 1)]"
   ]
  },
  {
   "cell_type": "code",
   "execution_count": 90,
   "metadata": {},
   "outputs": [
    {
     "name": "stdout",
     "output_type": "stream",
     "text": [
      "Inputs: (0, 0), Output: 0\n",
      "Inputs: (0, 1), Output: 1\n",
      "Inputs: (1, 0), Output: 1\n",
      "Inputs: (1, 1), Output: 0\n"
     ]
    }
   ],
   "source": [
    "for i in range(4):\n",
    "    result = xor_gate(A_B[i][0], A_B[i][1])\n",
    "    print(f\"Inputs: {A_B[i]}, Output: {result}\")\n"
   ]
  },
  {
   "cell_type": "markdown",
   "metadata": {},
   "source": [
    "# Multi Layer Perceptron to solve XOR problem"
   ]
  },
  {
   "cell_type": "code",
   "execution_count": 86,
   "metadata": {},
   "outputs": [],
   "source": [
    "# Parameters\n",
    "w11 = np.array([-2, -2])\n",
    "w12 = np.array([2, 2])\n",
    "w2 = np.array([1, 1])\n",
    "b1 = 3\n",
    "b2 = -1\n",
    "b3 = -1\n",
    "\n",
    "# Perceptron\n",
    "def MLP(x, w, b):\n",
    "    y = np.sum(x * w) + b \n",
    "    if y <= 0:\n",
    "        return 0 \n",
    "    else: \n",
    "        return 1 \n",
    "    \n",
    "# Logic gates \n",
    "def NAND(x1, x2):\n",
    "    return MLP(np.array([x1, x2]), w11, b1)\n",
    "\n",
    "def OR(x1, x2):\n",
    "    return MLP(np.array([x1, x2]), w12, b2)\n",
    "\n",
    "def AND(x1, x2):\n",
    "    return MLP(np.array([x1, x2]), w2, b3)\n",
    "\n",
    "def XOR(x1, x2):\n",
    "    return AND(NAND(x1, x2), OR(x1, x2))\n"
   ]
  },
  {
   "cell_type": "code",
   "execution_count": 88,
   "metadata": {},
   "outputs": [
    {
     "name": "stdout",
     "output_type": "stream",
     "text": [
      "Input Values: (0, 0) Output Value: 0\n",
      "Input Values: (1, 0) Output Value: 1\n",
      "Input Values: (0, 1) Output Value: 1\n",
      "Input Values: (1, 1) Output Value: 0\n"
     ]
    }
   ],
   "source": [
    "for x in [(0, 0), (1, 0), (0, 1), (1, 1)]:\n",
    "    y = XOR(x[0], x[1])\n",
    "    print(f\"Input Values: {x} Output Value: {y}\")"
   ]
  },
  {
   "cell_type": "code",
   "execution_count": null,
   "metadata": {},
   "outputs": [],
   "source": []
  }
 ],
 "metadata": {
  "kernelspec": {
   "display_name": "base",
   "language": "python",
   "name": "python3"
  },
  "language_info": {
   "codemirror_mode": {
    "name": "ipython",
    "version": 3
   },
   "file_extension": ".py",
   "mimetype": "text/x-python",
   "name": "python",
   "nbconvert_exporter": "python",
   "pygments_lexer": "ipython3",
   "version": "3.12.9"
  }
 },
 "nbformat": 4,
 "nbformat_minor": 2
}
