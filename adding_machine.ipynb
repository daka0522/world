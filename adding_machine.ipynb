{
 "cells": [
  {
   "cell_type": "markdown",
   "metadata": {},
   "source": [
    "\n",
    "# Adding Machine\n",
    "\n",
    "    y = x + b\n",
    "    loss = 0.5 * (t - y)**2\n",
    "\n",
    "    dloss/dy = t - y\n",
    "    dloss/dx = dloss/dy * 1\n",
    "\n"
   ]
  },
  {
   "cell_type": "code",
   "execution_count": 2,
   "metadata": {},
   "outputs": [],
   "source": [
    "import numpy as np \n",
    "import matplotlib.pyplot as plt"
   ]
  },
  {
   "cell_type": "code",
   "execution_count": null,
   "metadata": {},
   "outputs": [
    {
     "name": "stdout",
     "output_type": "stream",
     "text": [
      "b: 10.0\n",
      "loss 45.85653834475449\n",
      "\n",
      "b: 10.0\n",
      "loss 0.0\n",
      "\n",
      "b: 10.0\n",
      "loss 0.0\n",
      "\n",
      "b: 10.0\n",
      "loss 0.0\n",
      "\n",
      "b: 10.0\n",
      "loss 0.0\n",
      "\n",
      "b: 10.0\n",
      "loss 0.0\n",
      "\n",
      "b: 10.0\n",
      "loss 0.0\n",
      "\n",
      "b: 10.0\n",
      "loss 0.0\n",
      "\n",
      "b: 10.0\n",
      "loss 0.0\n",
      "\n",
      "b: 10.0\n",
      "loss 0.0\n",
      "\n",
      "b: 10.0\n",
      "loss 0.0\n",
      "\n",
      "b: 10.0\n",
      "loss 0.0\n",
      "\n",
      "b: 10.0\n",
      "loss 0.0\n",
      "\n",
      "b: 10.0\n",
      "loss 0.0\n",
      "\n",
      "b: 10.0\n",
      "loss 0.0\n",
      "\n",
      "b: 10.0\n",
      "loss 0.0\n",
      "\n",
      "b: 10.0\n",
      "loss 0.0\n",
      "\n",
      "b: 10.0\n",
      "loss 0.0\n",
      "\n",
      "b: 10.0\n",
      "loss 0.0\n",
      "\n",
      "b: 10.0\n",
      "loss 0.0\n",
      "\n",
      "b: 10.0\n",
      "loss 0.0\n",
      "\n",
      "b: 10.0\n",
      "loss 0.0\n",
      "\n",
      "b: 10.0\n",
      "loss 0.0\n",
      "\n",
      "b: 10.0\n",
      "loss 0.0\n",
      "\n",
      "b: 10.0\n",
      "loss 0.0\n",
      "\n",
      "b: 10.0\n",
      "loss 0.0\n",
      "\n",
      "b: 10.0\n",
      "loss 0.0\n",
      "\n",
      "b: 10.0\n",
      "loss 0.0\n",
      "\n",
      "b: 10.0\n",
      "loss 0.0\n",
      "\n",
      "b: 10.0\n",
      "loss 0.0\n",
      "\n",
      "b: 10.0\n",
      "loss 0.0\n",
      "\n",
      "b: 10.0\n",
      "loss 0.0\n",
      "\n",
      "b: 10.0\n",
      "loss 0.0\n",
      "\n",
      "b: 10.0\n",
      "loss 0.0\n",
      "\n",
      "b: 10.0\n",
      "loss 0.0\n",
      "\n",
      "b: 10.0\n",
      "loss 0.0\n",
      "\n",
      "b: 10.0\n",
      "loss 0.0\n",
      "\n",
      "b: 10.0\n",
      "loss 0.0\n",
      "\n",
      "b: 10.0\n",
      "loss 0.0\n",
      "\n",
      "b: 10.0\n",
      "loss 0.0\n",
      "\n",
      "b: 10.0\n",
      "loss 0.0\n",
      "\n",
      "b: 10.0\n",
      "loss 0.0\n",
      "\n",
      "b: 10.0\n",
      "loss 0.0\n",
      "\n",
      "b: 10.0\n",
      "loss 0.0\n",
      "\n",
      "b: 10.0\n",
      "loss 0.0\n",
      "\n",
      "b: 10.0\n",
      "loss 0.0\n",
      "\n",
      "b: 10.0\n",
      "loss 0.0\n",
      "\n",
      "b: 10.0\n",
      "loss 0.0\n",
      "\n",
      "b: 10.0\n",
      "loss 0.0\n",
      "\n",
      "b: 10.0\n",
      "loss 0.0\n",
      "\n",
      "b: 10.0\n",
      "loss 0.0\n",
      "\n",
      "b: 10.0\n",
      "loss 0.0\n",
      "\n",
      "b: 10.0\n",
      "loss 0.0\n",
      "\n",
      "b: 10.0\n",
      "loss 0.0\n",
      "\n",
      "b: 10.0\n",
      "loss 0.0\n",
      "\n",
      "b: 10.0\n",
      "loss 0.0\n",
      "\n",
      "b: 10.0\n",
      "loss 0.0\n",
      "\n",
      "b: 10.0\n",
      "loss 0.0\n",
      "\n",
      "b: 10.0\n",
      "loss 0.0\n",
      "\n",
      "b: 10.0\n",
      "loss 0.0\n",
      "\n",
      "b: 10.0\n",
      "loss 0.0\n",
      "\n",
      "b: 10.0\n",
      "loss 0.0\n",
      "\n",
      "b: 10.0\n",
      "loss 0.0\n",
      "\n",
      "b: 10.0\n",
      "loss 0.0\n",
      "\n",
      "b: 10.0\n",
      "loss 0.0\n",
      "\n",
      "b: 10.0\n",
      "loss 0.0\n",
      "\n",
      "b: 10.0\n",
      "loss 0.0\n",
      "\n",
      "b: 10.0\n",
      "loss 0.0\n",
      "\n",
      "b: 10.0\n",
      "loss 0.0\n",
      "\n",
      "b: 10.0\n",
      "loss 0.0\n",
      "\n",
      "b: 10.0\n",
      "loss 0.0\n",
      "\n",
      "b: 10.0\n",
      "loss 0.0\n",
      "\n",
      "b: 10.0\n",
      "loss 0.0\n",
      "\n",
      "b: 10.0\n",
      "loss 0.0\n",
      "\n",
      "b: 10.0\n",
      "loss 0.0\n",
      "\n",
      "b: 10.0\n",
      "loss 0.0\n",
      "\n",
      "b: 10.0\n",
      "loss 0.0\n",
      "\n",
      "b: 10.0\n",
      "loss 0.0\n",
      "\n",
      "b: 10.0\n",
      "loss 0.0\n",
      "\n",
      "b: 10.0\n",
      "loss 0.0\n",
      "\n",
      "b: 10.0\n",
      "loss 0.0\n",
      "\n",
      "b: 10.0\n",
      "loss 0.0\n",
      "\n",
      "b: 10.0\n",
      "loss 0.0\n",
      "\n",
      "b: 10.0\n",
      "loss 0.0\n",
      "\n",
      "b: 10.0\n",
      "loss 0.0\n",
      "\n",
      "b: 10.0\n",
      "loss 0.0\n",
      "\n",
      "b: 10.0\n",
      "loss 0.0\n",
      "\n",
      "b: 10.0\n",
      "loss 0.0\n",
      "\n",
      "b: 10.0\n",
      "loss 0.0\n",
      "\n",
      "b: 10.0\n",
      "loss 0.0\n",
      "\n",
      "b: 10.0\n",
      "loss 0.0\n",
      "\n",
      "b: 10.0\n",
      "loss 0.0\n",
      "\n",
      "b: 10.0\n",
      "loss 0.0\n",
      "\n",
      "b: 10.0\n",
      "loss 0.0\n",
      "\n",
      "b: 10.0\n",
      "loss 0.0\n",
      "\n",
      "b: 10.0\n",
      "loss 0.0\n",
      "\n",
      "b: 10.0\n",
      "loss 0.0\n",
      "\n",
      "b: 10.0\n",
      "loss 0.0\n",
      "\n",
      "b: 10.0\n",
      "loss 0.0\n",
      "\n",
      "b: 10.0\n",
      "loss 0.0\n",
      "\n"
     ]
    }
   ],
   "source": [
    "def add(x, b):\n",
    "    return x + b \n",
    "\n",
    "def dadd_db(b):\n",
    "    return 1    \n",
    "\n",
    "def loss(y, t):\n",
    "    return 0.5 * (t - y)**2 \n",
    "\n",
    "def dloss_dy(y, t):\n",
    "    return t - y\n",
    "\n",
    "def dloss_db(b, y, t): \n",
    "    dy_db = dadd_db(b)\n",
    "    dy = dloss_dy(y, t)\n",
    "    return dy_db * dy\n",
    "\n",
    "def dloss_dw()\n",
    "\n",
    "def gradient_descent(b, y, t, lr=1):\n",
    "    return lr * dloss_db(b, y, t)\n",
    "\n",
    "w = np.random.rand()\n",
    "b  = np.random.rand()\n",
    "x = 0\n",
    "t = 10\n",
    "\n",
    "losses = []\n",
    "bs = []\n",
    "\n",
    "for i in range(100):\n",
    "    y = add(x, b)\n",
    "    b += gradient_descent(b, y, t)\n",
    "    print(f\"b: {b}\")\n",
    "    print(f\"loss {loss(y, t)}\")\n",
    "    print(\"\")\n",
    "    losses.append(loss(y, t))\n",
    "    bs.append(b)\n"
   ]
  },
  {
   "cell_type": "code",
   "execution_count": 15,
   "metadata": {},
   "outputs": [
    {
     "data": {
      "text/plain": [
       "[<matplotlib.lines.Line2D at 0x1295ee120>]"
      ]
     },
     "execution_count": 15,
     "metadata": {},
     "output_type": "execute_result"
    },
    {
     "data": {
      "image/png": "[encoded data removed]",
      "text/plain": [
       "<Figure size 640x480 with 1 Axes>"
      ]
     },
     "metadata": {},
     "output_type": "display_data"
    }
   ],
   "source": [
    "plt.plot(bs)"
   ]
  },
  {
   "cell_type": "code",
   "execution_count": 16,
   "metadata": {},
   "outputs": [
    {
     "data": {
      "text/plain": [
       "30.0"
      ]
     },
     "execution_count": 16,
     "metadata": {},
     "output_type": "execute_result"
    }
   ],
   "source": [
    "x = 20\n",
    "add(x, b)"
   ]
  },
  {
   "cell_type": "code",
   "execution_count": 17,
   "metadata": {},
   "outputs": [
    {
     "data": {
      "text/plain": [
       "(0.2916187564129473, 10.0)"
      ]
     },
     "execution_count": 17,
     "metadata": {},
     "output_type": "execute_result"
    }
   ],
   "source": [
    "w, b "
   ]
  },
  {
   "cell_type": "code",
   "execution_count": 36,
   "metadata": {},
   "outputs": [
    {
     "data": {
      "text/plain": [
       "0.31961124213955505"
      ]
     },
     "execution_count": 36,
     "metadata": {},
     "output_type": "execute_result"
    }
   ],
   "source": [
    "w "
   ]
  },
  {
   "cell_type": "code",
   "execution_count": 5,
   "metadata": {},
   "outputs": [
    {
     "data": {
      "text/plain": [
       "' \\ny = f(x) = w * x + b \\nz = l(y) = 0.5 * (t - y)**2\\n\\n '"
      ]
     },
     "execution_count": 5,
     "metadata": {},
     "output_type": "execute_result"
    }
   ],
   "source": [
    "\"\"\" \n",
    "y = f(x) = w * x + b \n",
    "z = l(y) = 0.5 * (t - y)**2\n",
    "\n",
    "dz/dy = y - t \n",
    "dy/dw = x\n",
    "dz/dw = (y-t) * x \n",
    "dy/db = 1\n",
    "dz/db = (y-t) * 1\n",
    "\n",
    " \"\"\""
   ]
  },
  {
   "cell_type": "code",
   "execution_count": 13,
   "metadata": {},
   "outputs": [],
   "source": [
    "def f(x, w, b):\n",
    "    return w * x + b \n",
    "\n",
    "def l(y, t):\n",
    "    return 0.5 * (t - y)**2\n",
    "\n",
    "def dz_dw(x, y, t):\n",
    "    return (y-t) * x\n",
    "\n",
    "def dz_db(y, t):\n",
    "    return y-t\n",
    "\n",
    "\n"
   ]
  },
  {
   "cell_type": "code",
   "execution_count": 29,
   "metadata": {},
   "outputs": [
    {
     "data": {
      "text/plain": [
       "6.5"
      ]
     },
     "execution_count": 29,
     "metadata": {},
     "output_type": "execute_result"
    }
   ],
   "source": [
    "x = 5\n",
    "w = 0.5\n",
    "b = 4 \n",
    "t = 15 \n",
    "lr = 0.1 \n",
    "\n",
    "y = f(x, w, b)\n",
    "y "
   ]
  },
  {
   "cell_type": "code",
   "execution_count": 24,
   "metadata": {},
   "outputs": [
    {
     "data": {
      "text/plain": [
       "36.125"
      ]
     },
     "execution_count": 24,
     "metadata": {},
     "output_type": "execute_result"
    }
   ],
   "source": [
    "z = l(y, t)\n",
    "z "
   ]
  },
  {
   "cell_type": "code",
   "execution_count": 25,
   "metadata": {},
   "outputs": [
    {
     "data": {
      "text/plain": [
       "-42.5"
      ]
     },
     "execution_count": 25,
     "metadata": {},
     "output_type": "execute_result"
    }
   ],
   "source": [
    "dz_dw(x, y, t)\n"
   ]
  },
  {
   "cell_type": "code",
   "execution_count": 26,
   "metadata": {},
   "outputs": [
    {
     "data": {
      "text/plain": [
       "-8.5"
      ]
     },
     "execution_count": 26,
     "metadata": {},
     "output_type": "execute_result"
    }
   ],
   "source": [
    "dz_db(y, t)"
   ]
  },
  {
   "cell_type": "code",
   "execution_count": 27,
   "metadata": {},
   "outputs": [
    {
     "data": {
      "text/plain": [
       "4.85"
      ]
     },
     "execution_count": 27,
     "metadata": {},
     "output_type": "execute_result"
    }
   ],
   "source": [
    "b = b - (dz_db(y, t) * lr)\n",
    "b "
   ]
  },
  {
   "cell_type": "code",
   "execution_count": 28,
   "metadata": {},
   "outputs": [
    {
     "data": {
      "text/plain": [
       "4.75"
      ]
     },
     "execution_count": 28,
     "metadata": {},
     "output_type": "execute_result"
    }
   ],
   "source": [
    "w = w - (dz_dw(x, y, t) * lr)\n",
    "w "
   ]
  },
  {
   "cell_type": "code",
   "execution_count": 73,
   "metadata": {},
   "outputs": [],
   "source": [
    "x = 5\n",
    "w = 0.5\n",
    "b = 4 \n",
    "t = 15 \n",
    "\n",
    "lr = 0.01 "
   ]
  },
  {
   "cell_type": "code",
   "execution_count": 74,
   "metadata": {},
   "outputs": [
    {
     "name": "stdout",
     "output_type": "stream",
     "text": [
      "loss: 0.15994799886345115\n"
     ]
    }
   ],
   "source": [
    "steps = 10\n",
    "\n",
    "losses = []\n",
    "\n",
    "for i in range(steps):\n",
    "    y = f(x, w, b)\n",
    "    z = l(y, t)\n",
    "    losses.append(z)\n",
    "    \n",
    "    w = w - (dz_dw(x, y, t) * lr)\n",
    "    b = b - (dz_db(y, t) * lr)\n",
    "print(f\"loss: {losses[-1]}\")"
   ]
  },
  {
   "cell_type": "code",
   "execution_count": 75,
   "metadata": {},
   "outputs": [
    {
     "data": {
      "text/plain": [
       "[<matplotlib.lines.Line2D at 0x10f3e4ef0>]"
      ]
     },
     "execution_count": 75,
     "metadata": {},
     "output_type": "execute_result"
    },
    {
     "data": {
      "image/png": "[encoded data removed]",
      "text/plain": [
       "<Figure size 640x480 with 1 Axes>"
      ]
     },
     "metadata": {},
     "output_type": "display_data"
    }
   ],
   "source": [
    "plt.plot(losses)"
   ]
  },
  {
   "cell_type": "code",
   "execution_count": 76,
   "metadata": {},
   "outputs": [
    {
     "data": {
      "text/plain": [
       "2.054127080043221"
      ]
     },
     "execution_count": 76,
     "metadata": {},
     "output_type": "execute_result"
    }
   ],
   "source": [
    "w "
   ]
  },
  {
   "cell_type": "code",
   "execution_count": 77,
   "metadata": {},
   "outputs": [
    {
     "data": {
      "text/plain": [
       "4.310825416008645"
      ]
     },
     "execution_count": 77,
     "metadata": {},
     "output_type": "execute_result"
    }
   ],
   "source": [
    "b "
   ]
  },
  {
   "cell_type": "code",
   "execution_count": 95,
   "metadata": {},
   "outputs": [
    {
     "data": {
      "text/plain": [
       "209.72353342033077"
      ]
     },
     "execution_count": 95,
     "metadata": {},
     "output_type": "execute_result"
    }
   ],
   "source": [
    "f(100, w, b)"
   ]
  },
  {
   "cell_type": "code",
   "execution_count": null,
   "metadata": {},
   "outputs": [],
   "source": [
    "accuracy = t - loss "
   ]
  },
  {
   "cell_type": "code",
   "execution_count": 83,
   "metadata": {},
   "outputs": [
    {
     "data": {
      "text/plain": [
       "5"
      ]
     },
     "execution_count": 83,
     "metadata": {},
     "output_type": "execute_result"
    }
   ],
   "source": [
    "x"
   ]
  },
  {
   "cell_type": "code",
   "execution_count": 97,
   "metadata": {},
   "outputs": [
    {
     "data": {
      "text/plain": [
       "[<matplotlib.lines.Line2D at 0x13f65d3a0>]"
      ]
     },
     "execution_count": 97,
     "metadata": {},
     "output_type": "execute_result"
    },
    {
     "data": {
      "image/png": "[encoded data removed]",
      "text/plain": [
       "<Figure size 640x480 with 1 Axes>"
      ]
     },
     "metadata": {},
     "output_type": "display_data"
    }
   ],
   "source": [
    "plt.plot([5, 100], [15,290])"
   ]
  },
  {
   "cell_type": "code",
   "execution_count": 101,
   "metadata": {},
   "outputs": [
    {
     "data": {
      "text/plain": [
       "array([[3]])"
      ]
     },
     "execution_count": 101,
     "metadata": {},
     "output_type": "execute_result"
    }
   ],
   "source": [
    "x = np.array([[3],])\n",
    "x "
   ]
  },
  {
   "cell_type": "code",
   "execution_count": 102,
   "metadata": {},
   "outputs": [
    {
     "data": {
      "text/plain": [
       "(1, 1)"
      ]
     },
     "execution_count": 102,
     "metadata": {},
     "output_type": "execute_result"
    }
   ],
   "source": [
    "x.shape "
   ]
  },
  {
   "cell_type": "code",
   "execution_count": 103,
   "metadata": {},
   "outputs": [],
   "source": [
    "ws = np.array([[1, 2, 3, 4, 5]])"
   ]
  },
  {
   "cell_type": "code",
   "execution_count": 104,
   "metadata": {},
   "outputs": [
    {
     "data": {
      "text/plain": [
       "(1, 5)"
      ]
     },
     "execution_count": 104,
     "metadata": {},
     "output_type": "execute_result"
    }
   ],
   "source": [
    "ws.shape "
   ]
  },
  {
   "cell_type": "code",
   "execution_count": 108,
   "metadata": {},
   "outputs": [
    {
     "data": {
      "text/plain": [
       "array([[ 3,  6,  9, 12, 15]])"
      ]
     },
     "execution_count": 108,
     "metadata": {},
     "output_type": "execute_result"
    }
   ],
   "source": [
    "x.dot(ws)"
   ]
  },
  {
   "cell_type": "code",
   "execution_count": 118,
   "metadata": {},
   "outputs": [
    {
     "data": {
      "text/plain": [
       "array([ 3,  6,  9, 12, 15])"
      ]
     },
     "execution_count": 118,
     "metadata": {},
     "output_type": "execute_result"
    }
   ],
   "source": [
    "x = np.array([3])\n",
    "z = x @ ws \n",
    "z "
   ]
  },
  {
   "cell_type": "code",
   "execution_count": 119,
   "metadata": {},
   "outputs": [],
   "source": [
    "y = np.array([10, 20, 30, 40, 50], )"
   ]
  },
  {
   "cell_type": "code",
   "execution_count": 120,
   "metadata": {},
   "outputs": [
    {
     "data": {
      "text/plain": [
       "(5,)"
      ]
     },
     "execution_count": 120,
     "metadata": {},
     "output_type": "execute_result"
    }
   ],
   "source": [
    "y.shape"
   ]
  },
  {
   "cell_type": "code",
   "execution_count": 121,
   "metadata": {},
   "outputs": [
    {
     "data": {
      "text/plain": [
       "1650"
      ]
     },
     "execution_count": 121,
     "metadata": {},
     "output_type": "execute_result"
    }
   ],
   "source": [
    "y @ z "
   ]
  },
  {
   "cell_type": "code",
   "execution_count": 364,
   "metadata": {},
   "outputs": [
    {
     "data": {
      "text/plain": [
       "' \\ny = f1(x, w, b)\\nz = f2(y, m)\\nk = l(z, t)\\n\\ndk/dz = z - t\\ndz/dy = m\\ndy/dw = x\\n\\ndk/dw = (z-t) * m * x \\ndk/db = (z-t) * m * 1\\n '"
      ]
     },
     "execution_count": 364,
     "metadata": {},
     "output_type": "execute_result"
    }
   ],
   "source": [
    "x: np.ndarray = np.array([10])\n",
    "output_size = 5\n",
    "w = np.random.randn(x.ndim, output_size)\n",
    "b = np.random.randn()\n",
    "m = np.random.randn(y.shape[0], 1)\n",
    "t = np.array([10])\n",
    "\n",
    "def f1(x, w, b):\n",
    "    return x @ w + b\n",
    "\n",
    "def f2(y, m): # f2 shape (1, 5) => (5, 1)\n",
    "    return y @ m\n",
    "      \n",
    "def l(z, t):\n",
    "    return 0.5 * (t - z)**2\n",
    "\n",
    "def dk_dw(z, t, m, x):\n",
    "    return (z-t) * x @  m.T \n",
    "\n",
    "def dk_db(z, t, m):\n",
    "    return (z-t) @ m.T\n",
    "\n",
    "\"\"\" \n",
    "y = f1(x, w, b)\n",
    "z = f2(y, m)\n",
    "k = l(z, t)\n",
    "\n",
    "dk/dz = z - t\n",
    "dz/dy = m\n",
    "dy/dw = x\n",
    "\n",
    "dk/dw = (z-t) * m * x \n",
    "dk/db = (z-t) * m * 1\n",
    " \"\"\""
   ]
  },
  {
   "cell_type": "code",
   "execution_count": 357,
   "metadata": {},
   "outputs": [
    {
     "data": {
      "text/plain": [
       "array([ 0.70444224, -1.0522775 , -3.94180088,  7.55880943,  1.9547191 ])"
      ]
     },
     "execution_count": 357,
     "metadata": {},
     "output_type": "execute_result"
    }
   ],
   "source": [
    "y = f1(x, w, b)\n",
    "y "
   ]
  },
  {
   "cell_type": "code",
   "execution_count": 358,
   "metadata": {},
   "outputs": [
    {
     "data": {
      "text/plain": [
       "array([-2.99086475])"
      ]
     },
     "execution_count": 358,
     "metadata": {},
     "output_type": "execute_result"
    }
   ],
   "source": [
    "z = f2(y, m)\n",
    "z "
   ]
  },
  {
   "cell_type": "code",
   "execution_count": 359,
   "metadata": {},
   "outputs": [
    {
     "data": {
      "text/plain": [
       "array([84.38128351])"
      ]
     },
     "execution_count": 359,
     "metadata": {},
     "output_type": "execute_result"
    }
   ],
   "source": [
    "k = l(z, t)\n",
    "k "
   ]
  },
  {
   "cell_type": "code",
   "execution_count": 360,
   "metadata": {},
   "outputs": [
    {
     "data": {
      "text/plain": [
       "array([-214.12433218, -236.91412296,  -82.37243955,   12.70629644,\n",
       "        -66.84449387])"
      ]
     },
     "execution_count": 360,
     "metadata": {},
     "output_type": "execute_result"
    }
   ],
   "source": [
    "dk_dw(z, t, m, x)"
   ]
  },
  {
   "cell_type": "code",
   "execution_count": 377,
   "metadata": {},
   "outputs": [],
   "source": [
    "steps = 10\n",
    "lr = 0.1 \n",
    "x: np.ndarray = np.array([10])\n",
    "output_size = 5\n",
    "w = np.random.randn(x.ndim, output_size)\n",
    "b = np.random.randn()\n",
    "m = np.random.randn(5, 1)\n",
    "t = np.array([10])\n",
    "\n",
    "\n",
    "losses = []\n",
    "\n",
    "for i in range(steps):\n",
    "    y = f1(x, w, b)\n",
    "    z = f2(y, m)\n",
    "    k = l(z, t)\n",
    "\n",
    "    w = w + dk_dw(z, t, m, x) * lr \n",
    "    \n",
    "    losses.append(k)\n"
   ]
  },
  {
   "cell_type": "code",
   "execution_count": 378,
   "metadata": {},
   "outputs": [
    {
     "data": {
      "text/plain": [
       "[<matplotlib.lines.Line2D at 0x1629154f0>]"
      ]
     },
     "execution_count": 378,
     "metadata": {},
     "output_type": "execute_result"
    },
    {
     "data": {
      "image/png": "[encoded data removed]",
      "text/plain": [
       "<Figure size 640x480 with 1 Axes>"
      ]
     },
     "metadata": {},
     "output_type": "display_data"
    }
   ],
   "source": [
    "plt.plot(losses)"
   ]
  },
  {
   "cell_type": "code",
   "execution_count": 379,
   "metadata": {},
   "outputs": [
    {
     "data": {
      "text/plain": [
       "[array([506.76764662]),\n",
       " array([133647.696176]),\n",
       " array([35246343.7873373]),\n",
       " array([9.29536974e+09]),\n",
       " array([2.45142869e+12]),\n",
       " array([6.4650496e+14]),\n",
       " array([1.70500029e+17]),\n",
       " array([4.49652543e+19]),\n",
       " array([1.18584971e+22]),\n",
       " array([3.12739146e+24])]"
      ]
     },
     "execution_count": 379,
     "metadata": {},
     "output_type": "execute_result"
    }
   ],
   "source": [
    "losses "
   ]
  },
  {
   "cell_type": "markdown",
   "metadata": {},
   "source": [
    "# Adding Machine v.1"
   ]
  },
  {
   "cell_type": "code",
   "execution_count": null,
   "metadata": {},
   "outputs": [
    {
     "name": "stdout",
     "output_type": "stream",
     "text": [
      "Number1 is -26, number2 is 52. Result of the opersation is 26\n",
      "Number1 is -26, number2 is 52. Result of the opersation is 26. The right answer is 10, difference between the right answer and an answer is -16\n",
      "Random number (-26, 52) is added, the reulst is 26. The feedback is 0. \n"
     ]
    }
   ],
   "source": [
    "import random \n",
    "import operator\n",
    "\n",
    "memory = []\n",
    "\n",
    "add = operator.add\n",
    "\n",
    "# 1. Pick 2 numbers\n",
    "# Initial from random numbers\n",
    "\n",
    "p1 = random.randint(-100, 100)\n",
    "p2 = random.randint(-100, 100)\n",
    "\n",
    "result = add(p1, p2)\n",
    "\n",
    "print(f'Number1 is {p1}, number2 is {p2}. Result of the opersation is {result}')\n",
    "\n",
    "\n",
    "# 2. Set the wanted answer\n",
    "answer = 10\n",
    "difference = answer - result \n",
    "print(f'Number1 is {p1}, number2 is {p2}. Result of the opersation is {result}. The right answer is {answer}, difference between the right answer and an answer is {difference}')\n",
    "\n",
    "\n",
    "# 3. Adjust the guess process\n",
    "# memory.append([p1, p2, difference])\n",
    "\n",
    "\n",
    "# 4. Reward plan - feedback\n",
    "\n",
    "def feedback(something):\n",
    "    # It take something action from actor, then this feedback function gives result with what is planed.\n",
    "    target = 0\n",
    "\n",
    "    if something is target:\n",
    "        reward = 1 \n",
    "    else: \n",
    "        reward = 0 \n",
    "    return reward \n",
    "\n",
    "result = add(p1, p2)\n",
    "feedback_result = feedback(result)\n",
    "\n",
    "print(f'Random number {p1, p2} is added, the reulst is {result}. The feedback is {feedback_result}. ')\n",
    "\n",
    "\n",
    "def act():\n",
    "    p1 = random.randint(-100, 100)\n",
    "    p2 = random.randint(-100, 100) \n",
    "    result = add(p1, p2)\n",
    "    \n",
    "    reward = feedback(result)\n",
    "\n",
    "    memory.append([(p1, p2), reward])"
   ]
  },
  {
   "cell_type": "code",
   "execution_count": 72,
   "metadata": {},
   "outputs": [],
   "source": [
    "for i in range(1000):\n",
    "    act()"
   ]
  },
  {
   "cell_type": "code",
   "execution_count": 73,
   "metadata": {},
   "outputs": [
    {
     "data": {
      "text/plain": [
       "[[(84, 39), 0],\n",
       " [(14, 68), 0],\n",
       " [(54, 10), 0],\n",
       " [(61, 12), 0],\n",
       " [(-49, 32), 0],\n",
       " [(-26, 92), 0],\n",
       " [(96, 36), 0],\n",
       " [(7, -58), 0],\n",
       " [(-41, -36), 0],\n",
       " [(-56, -56), 0],\n",
       " [(-33, 70), 0],\n",
       " [(54, -20), 0],\n",
       " [(23, -58), 0],\n",
       " [(-44, 19), 0],\n",
       " [(27, -81), 0],\n",
       " [(3, 21), 0],\n",
       " [(84, 17), 0],\n",
       " [(-12, 38), 0],\n",
       " [(12, -40), 0],\n",
       " [(82, -89), 0],\n",
       " [(-17, -34), 0],\n",
       " [(18, -85), 0],\n",
       " [(-67, 45), 0],\n",
       " [(84, 31), 0],\n",
       " [(6, 55), 0],\n",
       " [(75, -62), 0],\n",
       " [(55, -72), 0],\n",
       " [(-66, 12), 0],\n",
       " [(6, -65), 0],\n",
       " [(85, -33), 0],\n",
       " [(98, 52), 0],\n",
       " [(8, 41), 0],\n",
       " [(23, -41), 0],\n",
       " [(-55, -39), 0],\n",
       " [(-62, 51), 0],\n",
       " [(-24, 30), 0],\n",
       " [(-5, -12), 0],\n",
       " [(5, -4), 0],\n",
       " [(-46, -22), 0],\n",
       " [(67, -59), 0],\n",
       " [(-38, 46), 0],\n",
       " [(-9, -33), 0],\n",
       " [(56, -60), 0],\n",
       " [(-61, -30), 0],\n",
       " [(19, -40), 0],\n",
       " [(98, -55), 0],\n",
       " [(53, 7), 0],\n",
       " [(86, -100), 0],\n",
       " [(54, 20), 0],\n",
       " [(-52, 39), 0],\n",
       " [(-75, -29), 0],\n",
       " [(-35, -71), 0],\n",
       " [(-41, -29), 0],\n",
       " [(-73, -95), 0],\n",
       " [(3, 26), 0],\n",
       " [(-83, -13), 0],\n",
       " [(-93, -69), 0],\n",
       " [(-78, -33), 0],\n",
       " [(-16, 46), 0],\n",
       " [(-7, 39), 0],\n",
       " [(-68, 61), 0],\n",
       " [(-55, -74), 0],\n",
       " [(20, -67), 0],\n",
       " [(32, -38), 0],\n",
       " [(17, 86), 0],\n",
       " [(-98, 82), 0],\n",
       " [(-39, 92), 0],\n",
       " [(-66, -56), 0],\n",
       " [(-86, -30), 0],\n",
       " [(25, 12), 0],\n",
       " [(-62, -65), 0],\n",
       " [(34, -1), 0],\n",
       " [(-26, 10), 0],\n",
       " [(1, 93), 0],\n",
       " [(17, -83), 0],\n",
       " [(67, 98), 0],\n",
       " [(10, 0), 0],\n",
       " [(73, 16), 0],\n",
       " [(-72, 11), 0],\n",
       " [(47, 16), 0],\n",
       " [(21, -63), 0],\n",
       " [(-98, 87), 0],\n",
       " [(-35, 87), 0],\n",
       " [(-20, 7), 0],\n",
       " [(-99, -46), 0],\n",
       " [(-71, -16), 0],\n",
       " [(4, 58), 0],\n",
       " [(-53, 76), 0],\n",
       " [(14, -75), 0],\n",
       " [(12, -46), 0],\n",
       " [(-38, -15), 0],\n",
       " [(66, -91), 0],\n",
       " [(3, 97), 0],\n",
       " [(-82, 61), 0],\n",
       " [(44, -30), 0],\n",
       " [(89, -86), 0],\n",
       " [(-48, 10), 0],\n",
       " [(-33, -88), 0],\n",
       " [(69, -26), 0],\n",
       " [(-40, 96), 0],\n",
       " [(90, 58), 0],\n",
       " [(-100, 99), 0],\n",
       " [(31, -71), 0],\n",
       " [(2, -66), 0],\n",
       " [(-27, 85), 0],\n",
       " [(-74, -97), 0],\n",
       " [(44, 3), 0],\n",
       " [(-74, 80), 0],\n",
       " [(-40, -34), 0],\n",
       " [(26, -74), 0],\n",
       " [(-16, -69), 0],\n",
       " [(-9, 81), 0],\n",
       " [(78, -79), 0],\n",
       " [(67, 37), 0],\n",
       " [(11, -70), 0],\n",
       " [(-4, -35), 0],\n",
       " [(-14, 7), 0],\n",
       " [(87, 98), 0],\n",
       " [(66, 60), 0],\n",
       " [(-28, -43), 0],\n",
       " [(-100, 75), 0],\n",
       " [(40, 59), 0],\n",
       " [(-90, 31), 0],\n",
       " [(61, -31), 0],\n",
       " [(87, 28), 0],\n",
       " [(11, 14), 0],\n",
       " [(-9, -92), 0],\n",
       " [(-98, -42), 0],\n",
       " [(-33, -24), 0],\n",
       " [(58, 15), 0],\n",
       " [(-16, -28), 0],\n",
       " [(-70, -93), 0],\n",
       " [(85, 13), 0],\n",
       " [(-51, 68), 0],\n",
       " [(9, -36), 0],\n",
       " [(-61, 49), 0],\n",
       " [(-32, -1), 0],\n",
       " [(40, 51), 0],\n",
       " [(-79, 78), 0],\n",
       " [(98, 62), 0],\n",
       " [(10, -78), 0],\n",
       " [(7, 23), 0],\n",
       " [(78, -16), 0],\n",
       " [(-39, -57), 0],\n",
       " [(78, 83), 0],\n",
       " [(23, -87), 0],\n",
       " [(-29, -46), 0],\n",
       " [(91, 27), 0],\n",
       " [(-66, -27), 0],\n",
       " [(33, -21), 0],\n",
       " [(97, 5), 0],\n",
       " [(35, -8), 0],\n",
       " [(-47, 10), 0],\n",
       " [(-72, -30), 0],\n",
       " [(81, -96), 0],\n",
       " [(72, -3), 0],\n",
       " [(30, 45), 0],\n",
       " [(65, 79), 0],\n",
       " [(61, 37), 0],\n",
       " [(-76, -83), 0],\n",
       " [(-85, 78), 0],\n",
       " [(28, -67), 0],\n",
       " [(-56, -16), 0],\n",
       " [(-12, -57), 0],\n",
       " [(75, -21), 0],\n",
       " [(49, -24), 0],\n",
       " [(-72, -5), 0],\n",
       " [(-9, -33), 0],\n",
       " [(-4, -79), 0],\n",
       " [(-80, -8), 0],\n",
       " [(-98, 27), 0],\n",
       " [(-71, -96), 0],\n",
       " [(-94, -54), 0],\n",
       " [(-75, 0), 0],\n",
       " [(-99, 37), 0],\n",
       " [(72, -85), 0],\n",
       " [(48, 48), 0],\n",
       " [(85, 19), 0],\n",
       " [(58, -84), 0],\n",
       " [(17, 54), 0],\n",
       " [(-72, 23), 0],\n",
       " [(-76, 8), 0],\n",
       " [(-56, -81), 0],\n",
       " [(-84, -100), 0],\n",
       " [(-77, -93), 0],\n",
       " [(-92, -10), 0],\n",
       " [(-87, -51), 0],\n",
       " [(4, 2), 0],\n",
       " [(44, 8), 0],\n",
       " [(-39, 33), 0],\n",
       " [(84, -70), 0],\n",
       " [(-15, -83), 0],\n",
       " [(-1, -68), 0],\n",
       " [(86, -64), 0],\n",
       " [(68, -49), 0],\n",
       " [(-50, 41), 0],\n",
       " [(-91, -94), 0],\n",
       " [(69, 69), 0],\n",
       " [(26, 68), 0],\n",
       " [(-50, -28), 0],\n",
       " [(-26, 69), 0],\n",
       " [(-89, -64), 0],\n",
       " [(-25, -3), 0],\n",
       " [(-13, 70), 0],\n",
       " [(-70, -30), 0],\n",
       " [(-68, 33), 0],\n",
       " [(-66, 85), 0],\n",
       " [(86, 85), 0],\n",
       " [(-68, 8), 0],\n",
       " [(-3, 4), 0],\n",
       " [(-19, -81), 0],\n",
       " [(41, -87), 0],\n",
       " [(-43, -69), 0],\n",
       " [(59, -75), 0],\n",
       " [(74, -58), 0],\n",
       " [(82, -61), 0],\n",
       " [(40, 62), 0],\n",
       " [(-38, -62), 0],\n",
       " [(38, 35), 0],\n",
       " [(-92, -99), 0],\n",
       " [(66, -25), 0],\n",
       " [(-22, -4), 0],\n",
       " [(83, -68), 0],\n",
       " [(-74, -40), 0],\n",
       " [(-42, 32), 0],\n",
       " [(-83, -91), 0],\n",
       " [(4, -53), 0],\n",
       " [(94, -44), 0],\n",
       " [(-79, -79), 0],\n",
       " [(30, 46), 0],\n",
       " [(78, 68), 0],\n",
       " [(49, -77), 0],\n",
       " [(9, 5), 0],\n",
       " [(20, 39), 0],\n",
       " [(-38, 31), 0],\n",
       " [(-68, 24), 0],\n",
       " [(-51, -10), 0],\n",
       " [(21, -65), 0],\n",
       " [(-61, -62), 0],\n",
       " [(16, -33), 0],\n",
       " [(-12, 59), 0],\n",
       " [(-28, 66), 0],\n",
       " [(-18, 14), 0],\n",
       " [(68, -46), 0],\n",
       " [(41, -12), 0],\n",
       " [(-32, 82), 0],\n",
       " [(36, -61), 0],\n",
       " [(-46, 49), 0],\n",
       " [(-81, 27), 0],\n",
       " [(95, 88), 0],\n",
       " [(62, -95), 0],\n",
       " [(-43, -80), 0],\n",
       " [(-21, 81), 0],\n",
       " [(-9, 59), 0],\n",
       " [(-38, -51), 0],\n",
       " [(-39, -54), 0],\n",
       " [(59, -65), 0],\n",
       " [(-71, 32), 0],\n",
       " [(28, 63), 0],\n",
       " [(4, -35), 0],\n",
       " [(-96, 82), 0],\n",
       " [(16, -34), 0],\n",
       " [(99, 43), 0],\n",
       " [(84, 43), 0],\n",
       " [(-10, 12), 0],\n",
       " [(49, 7), 0],\n",
       " [(-44, 77), 0],\n",
       " [(82, 67), 0],\n",
       " [(-95, -32), 0],\n",
       " [(-77, -49), 0],\n",
       " [(53, 61), 0],\n",
       " [(95, -66), 0],\n",
       " [(9, 1), 0],\n",
       " [(49, -49), 1],\n",
       " [(62, 56), 0],\n",
       " [(-95, -58), 0],\n",
       " [(85, -7), 0],\n",
       " [(-39, -58), 0],\n",
       " [(-9, -100), 0],\n",
       " [(50, -64), 0],\n",
       " [(64, 4), 0],\n",
       " [(53, -54), 0],\n",
       " [(-8, 88), 0],\n",
       " [(90, 7), 0],\n",
       " [(-14, -94), 0],\n",
       " [(-99, -28), 0],\n",
       " [(47, 97), 0],\n",
       " [(30, 69), 0],\n",
       " [(34, 74), 0],\n",
       " [(67, -8), 0],\n",
       " [(68, 0), 0],\n",
       " [(-10, 43), 0],\n",
       " [(10, 25), 0],\n",
       " [(16, -92), 0],\n",
       " [(22, -29), 0],\n",
       " [(52, 13), 0],\n",
       " [(32, -75), 0],\n",
       " [(73, 78), 0],\n",
       " [(-70, 22), 0],\n",
       " [(72, 91), 0],\n",
       " [(32, -97), 0],\n",
       " [(78, 48), 0],\n",
       " [(84, 38), 0],\n",
       " [(-50, 8), 0],\n",
       " [(-31, 61), 0],\n",
       " [(-29, 87), 0],\n",
       " [(-78, -6), 0],\n",
       " [(-16, 59), 0],\n",
       " [(-90, -19), 0],\n",
       " [(52, 88), 0],\n",
       " [(75, -17), 0],\n",
       " [(-38, 95), 0],\n",
       " [(-42, -94), 0],\n",
       " [(55, -6), 0],\n",
       " [(-7, -88), 0],\n",
       " [(38, -12), 0],\n",
       " [(30, -68), 0],\n",
       " [(-79, -15), 0],\n",
       " [(-40, 81), 0],\n",
       " [(53, -21), 0],\n",
       " [(-28, 4), 0],\n",
       " [(78, 61), 0],\n",
       " [(-38, -47), 0],\n",
       " [(-30, -73), 0],\n",
       " [(-56, 14), 0],\n",
       " [(80, -66), 0],\n",
       " [(-40, 13), 0],\n",
       " [(10, -34), 0],\n",
       " [(-99, 25), 0],\n",
       " [(-42, -28), 0],\n",
       " [(-100, -34), 0],\n",
       " [(-40, -88), 0],\n",
       " [(-75, -39), 0],\n",
       " [(-84, 51), 0],\n",
       " [(-23, -50), 0],\n",
       " [(49, -8), 0],\n",
       " [(-25, -65), 0],\n",
       " [(38, 77), 0],\n",
       " [(90, 63), 0],\n",
       " [(-23, 35), 0],\n",
       " [(12, 94), 0],\n",
       " [(60, 9), 0],\n",
       " [(68, 18), 0],\n",
       " [(89, 25), 0],\n",
       " [(69, 0), 0],\n",
       " [(30, -84), 0],\n",
       " [(70, -52), 0],\n",
       " [(-37, -13), 0],\n",
       " [(-38, -15), 0],\n",
       " [(-69, -61), 0],\n",
       " [(17, -19), 0],\n",
       " [(-96, -32), 0],\n",
       " [(58, 79), 0],\n",
       " [(62, -28), 0],\n",
       " [(-73, 67), 0],\n",
       " [(-85, 72), 0],\n",
       " [(-73, 39), 0],\n",
       " [(14, 31), 0],\n",
       " [(86, -15), 0],\n",
       " [(37, 34), 0],\n",
       " [(-35, -68), 0],\n",
       " [(82, 46), 0],\n",
       " [(39, 26), 0],\n",
       " [(26, -30), 0],\n",
       " [(5, -67), 0],\n",
       " [(-100, 34), 0],\n",
       " [(-47, -58), 0],\n",
       " [(-21, 67), 0],\n",
       " [(-48, 98), 0],\n",
       " [(42, 46), 0],\n",
       " [(44, -26), 0],\n",
       " [(40, -25), 0],\n",
       " [(28, -23), 0],\n",
       " [(61, 9), 0],\n",
       " [(-39, 59), 0],\n",
       " [(32, 64), 0],\n",
       " [(-18, -37), 0],\n",
       " [(21, 94), 0],\n",
       " [(-33, 49), 0],\n",
       " [(72, -11), 0],\n",
       " [(42, 47), 0],\n",
       " [(79, -63), 0],\n",
       " [(38, -19), 0],\n",
       " [(-69, 32), 0],\n",
       " [(-70, 85), 0],\n",
       " [(-37, -60), 0],\n",
       " [(-35, -2), 0],\n",
       " [(-46, -41), 0],\n",
       " [(-8, -43), 0],\n",
       " [(97, -31), 0],\n",
       " [(-72, -53), 0],\n",
       " [(-64, -48), 0],\n",
       " [(42, -84), 0],\n",
       " [(80, 87), 0],\n",
       " [(41, 40), 0],\n",
       " [(-35, -83), 0],\n",
       " [(13, -90), 0],\n",
       " [(-69, -58), 0],\n",
       " [(58, 65), 0],\n",
       " [(-12, 22), 0],\n",
       " [(-92, -72), 0],\n",
       " [(-25, -73), 0],\n",
       " [(34, -58), 0],\n",
       " [(77, 93), 0],\n",
       " [(83, 45), 0],\n",
       " [(49, -95), 0],\n",
       " [(-88, 55), 0],\n",
       " [(34, -6), 0],\n",
       " [(-65, -51), 0],\n",
       " [(2, 52), 0],\n",
       " [(98, 88), 0],\n",
       " [(67, 41), 0],\n",
       " [(22, -72), 0],\n",
       " [(2, 10), 0],\n",
       " [(-20, -75), 0],\n",
       " [(-43, 0), 0],\n",
       " [(-38, 30), 0],\n",
       " [(-34, -41), 0],\n",
       " [(98, -28), 0],\n",
       " [(25, -45), 0],\n",
       " [(35, -16), 0],\n",
       " [(25, -64), 0],\n",
       " [(98, 61), 0],\n",
       " [(-22, 34), 0],\n",
       " [(-27, -31), 0],\n",
       " [(-82, -86), 0],\n",
       " [(93, 47), 0],\n",
       " [(-97, 2), 0],\n",
       " [(57, -21), 0],\n",
       " [(-88, 11), 0],\n",
       " [(-96, -8), 0],\n",
       " [(-52, 26), 0],\n",
       " [(72, -5), 0],\n",
       " [(-4, -94), 0],\n",
       " [(-87, -38), 0],\n",
       " [(46, -50), 0],\n",
       " [(-22, -78), 0],\n",
       " [(19, -16), 0],\n",
       " [(96, 90), 0],\n",
       " [(25, -36), 0],\n",
       " [(37, 31), 0],\n",
       " [(40, -59), 0],\n",
       " [(93, -52), 0],\n",
       " [(7, -7), 1],\n",
       " [(-59, 94), 0],\n",
       " [(40, -34), 0],\n",
       " [(66, -19), 0],\n",
       " [(-46, -71), 0],\n",
       " [(39, -63), 0],\n",
       " [(-11, -77), 0],\n",
       " [(-72, 26), 0],\n",
       " [(17, 44), 0],\n",
       " [(97, -65), 0],\n",
       " [(-86, 28), 0],\n",
       " [(-62, -11), 0],\n",
       " [(46, -20), 0],\n",
       " [(12, -25), 0],\n",
       " [(-59, -49), 0],\n",
       " [(79, 75), 0],\n",
       " [(47, 11), 0],\n",
       " [(-49, 89), 0],\n",
       " [(55, -10), 0],\n",
       " [(34, -99), 0],\n",
       " [(59, 27), 0],\n",
       " [(-64, 1), 0],\n",
       " [(56, -5), 0],\n",
       " [(25, 60), 0],\n",
       " [(90, -70), 0],\n",
       " [(-88, -9), 0],\n",
       " [(88, -18), 0],\n",
       " [(-59, 72), 0],\n",
       " [(-16, 23), 0],\n",
       " [(83, -25), 0],\n",
       " [(28, -38), 0],\n",
       " [(29, 14), 0],\n",
       " [(76, -81), 0],\n",
       " [(-63, 47), 0],\n",
       " [(81, -79), 0],\n",
       " [(31, 97), 0],\n",
       " [(60, -60), 1],\n",
       " [(20, 89), 0],\n",
       " [(-61, 53), 0],\n",
       " [(-96, -65), 0],\n",
       " [(-74, -48), 0],\n",
       " [(82, 83), 0],\n",
       " [(-27, 28), 0],\n",
       " [(-43, 72), 0],\n",
       " [(-4, -57), 0],\n",
       " [(-37, -93), 0],\n",
       " [(23, 21), 0],\n",
       " [(55, 59), 0],\n",
       " [(82, -27), 0],\n",
       " [(-98, -31), 0],\n",
       " [(-43, 66), 0],\n",
       " [(97, -79), 0],\n",
       " [(46, 28), 0],\n",
       " [(5, -3), 0],\n",
       " [(-51, -40), 0],\n",
       " [(-80, 36), 0],\n",
       " [(1, -70), 0],\n",
       " [(-31, -97), 0],\n",
       " [(46, 65), 0],\n",
       " [(-92, -80), 0],\n",
       " [(71, -23), 0],\n",
       " [(-26, 90), 0],\n",
       " [(-22, -28), 0],\n",
       " [(-7, -33), 0],\n",
       " [(-15, -37), 0],\n",
       " [(62, -24), 0],\n",
       " [(19, -61), 0],\n",
       " [(-32, -85), 0],\n",
       " [(-5, 37), 0],\n",
       " [(-13, -15), 0],\n",
       " [(62, 6), 0],\n",
       " [(5, 49), 0],\n",
       " [(95, 23), 0],\n",
       " [(-29, 86), 0],\n",
       " [(24, 39), 0],\n",
       " [(45, 26), 0],\n",
       " [(-57, -16), 0],\n",
       " [(-68, 94), 0],\n",
       " [(-40, 88), 0],\n",
       " [(29, 33), 0],\n",
       " [(-60, -3), 0],\n",
       " [(56, -98), 0],\n",
       " [(-57, 50), 0],\n",
       " [(-27, 37), 0],\n",
       " [(29, -8), 0],\n",
       " [(-56, -51), 0],\n",
       " [(79, -61), 0],\n",
       " [(-90, -7), 0],\n",
       " [(4, 51), 0],\n",
       " [(8, 30), 0],\n",
       " [(-44, -76), 0],\n",
       " [(-54, 24), 0],\n",
       " [(29, 12), 0],\n",
       " [(51, 14), 0],\n",
       " [(-46, -93), 0],\n",
       " [(-19, 38), 0],\n",
       " [(73, 75), 0],\n",
       " [(-54, 83), 0],\n",
       " [(-48, -81), 0],\n",
       " [(-28, -12), 0],\n",
       " [(-91, -97), 0],\n",
       " [(-40, 78), 0],\n",
       " [(86, -42), 0],\n",
       " [(18, 21), 0],\n",
       " [(-42, 86), 0],\n",
       " [(35, -52), 0],\n",
       " [(-95, -79), 0],\n",
       " [(13, 23), 0],\n",
       " [(-73, 21), 0],\n",
       " [(-68, 54), 0],\n",
       " [(-99, 29), 0],\n",
       " [(-74, -14), 0],\n",
       " [(-28, -73), 0],\n",
       " [(38, -50), 0],\n",
       " [(51, 56), 0],\n",
       " [(-82, 94), 0],\n",
       " [(-59, 53), 0],\n",
       " [(-17, -73), 0],\n",
       " [(-95, 21), 0],\n",
       " [(-99, -69), 0],\n",
       " [(51, -50), 0],\n",
       " [(-62, 13), 0],\n",
       " [(2, 44), 0],\n",
       " [(-93, -68), 0],\n",
       " [(62, 11), 0],\n",
       " [(-75, -80), 0],\n",
       " [(41, -97), 0],\n",
       " [(-42, 85), 0],\n",
       " [(-52, 43), 0],\n",
       " [(-57, -11), 0],\n",
       " [(-10, -58), 0],\n",
       " [(39, -31), 0],\n",
       " [(26, -17), 0],\n",
       " [(-69, 70), 0],\n",
       " [(81, -88), 0],\n",
       " [(-94, 23), 0],\n",
       " [(-90, -88), 0],\n",
       " [(63, 36), 0],\n",
       " [(30, 22), 0],\n",
       " [(27, 94), 0],\n",
       " [(-86, -63), 0],\n",
       " [(97, 9), 0],\n",
       " [(70, -22), 0],\n",
       " [(78, -88), 0],\n",
       " [(75, -51), 0],\n",
       " [(-17, -10), 0],\n",
       " [(-56, -59), 0],\n",
       " [(22, -83), 0],\n",
       " [(24, -47), 0],\n",
       " [(15, -62), 0],\n",
       " [(-30, 10), 0],\n",
       " [(-33, -29), 0],\n",
       " [(98, -97), 0],\n",
       " [(96, -48), 0],\n",
       " [(-66, -56), 0],\n",
       " [(-71, 36), 0],\n",
       " [(60, 41), 0],\n",
       " [(-35, -69), 0],\n",
       " [(-27, -13), 0],\n",
       " [(-38, -15), 0],\n",
       " [(-25, -99), 0],\n",
       " [(21, 56), 0],\n",
       " [(-69, 42), 0],\n",
       " [(-96, 68), 0],\n",
       " [(-64, -31), 0],\n",
       " [(-15, -15), 0],\n",
       " [(-18, -90), 0],\n",
       " [(-62, 41), 0],\n",
       " [(64, 26), 0],\n",
       " [(-62, -83), 0],\n",
       " [(-72, -61), 0],\n",
       " [(3, 57), 0],\n",
       " [(-17, -5), 0],\n",
       " [(81, -67), 0],\n",
       " [(73, 57), 0],\n",
       " [(74, 91), 0],\n",
       " [(63, -30), 0],\n",
       " [(-79, -14), 0],\n",
       " [(70, -31), 0],\n",
       " [(93, -57), 0],\n",
       " [(-56, 17), 0],\n",
       " [(-75, 51), 0],\n",
       " [(30, -25), 0],\n",
       " [(-85, -56), 0],\n",
       " [(65, 100), 0],\n",
       " [(-89, 28), 0],\n",
       " [(-83, 2), 0],\n",
       " [(-78, -28), 0],\n",
       " [(-42, -40), 0],\n",
       " [(-88, 37), 0],\n",
       " [(-5, 9), 0],\n",
       " [(25, 33), 0],\n",
       " [(38, -65), 0],\n",
       " [(53, -14), 0],\n",
       " [(-68, 97), 0],\n",
       " [(19, -38), 0],\n",
       " [(-55, -46), 0],\n",
       " [(80, -58), 0],\n",
       " [(-63, 37), 0],\n",
       " [(-49, 27), 0],\n",
       " [(87, 16), 0],\n",
       " [(95, -25), 0],\n",
       " [(-82, -55), 0],\n",
       " [(36, 76), 0],\n",
       " [(32, -40), 0],\n",
       " [(77, -99), 0],\n",
       " [(91, -55), 0],\n",
       " [(19, -12), 0],\n",
       " [(-49, 55), 0],\n",
       " [(48, -100), 0],\n",
       " [(-49, 81), 0],\n",
       " [(0, -49), 0],\n",
       " [(48, -50), 0],\n",
       " [(-15, 16), 0],\n",
       " [(-53, -8), 0],\n",
       " [(19, 43), 0],\n",
       " [(-44, -53), 0],\n",
       " [(-16, 35), 0],\n",
       " [(22, 65), 0],\n",
       " [(-66, -20), 0],\n",
       " [(-49, 62), 0],\n",
       " [(-99, -28), 0],\n",
       " [(-62, 96), 0],\n",
       " [(-60, -35), 0],\n",
       " [(-58, 86), 0],\n",
       " [(69, -10), 0],\n",
       " [(19, 49), 0],\n",
       " [(65, 50), 0],\n",
       " [(-52, 7), 0],\n",
       " [(14, 75), 0],\n",
       " [(6, -9), 0],\n",
       " [(-37, 3), 0],\n",
       " [(61, -79), 0],\n",
       " [(-66, -1), 0],\n",
       " [(84, -56), 0],\n",
       " [(73, -96), 0],\n",
       " [(-92, 16), 0],\n",
       " [(-47, 43), 0],\n",
       " [(16, 15), 0],\n",
       " [(-1, -15), 0],\n",
       " [(-34, -1), 0],\n",
       " [(-89, 97), 0],\n",
       " [(82, -16), 0],\n",
       " [(88, -64), 0],\n",
       " [(92, 97), 0],\n",
       " [(-48, -40), 0],\n",
       " [(-97, -41), 0],\n",
       " [(41, -47), 0],\n",
       " [(26, 11), 0],\n",
       " [(96, -39), 0],\n",
       " [(-58, -19), 0],\n",
       " [(-64, -53), 0],\n",
       " [(-77, -56), 0],\n",
       " [(-70, 98), 0],\n",
       " [(-59, -31), 0],\n",
       " [(-45, 46), 0],\n",
       " [(-90, -92), 0],\n",
       " [(27, 4), 0],\n",
       " [(-62, -42), 0],\n",
       " [(89, -13), 0],\n",
       " [(44, 27), 0],\n",
       " [(22, -31), 0],\n",
       " [(12, 30), 0],\n",
       " [(-14, -7), 0],\n",
       " [(-92, -70), 0],\n",
       " [(69, -34), 0],\n",
       " [(76, -85), 0],\n",
       " [(-95, -28), 0],\n",
       " [(-21, -78), 0],\n",
       " [(-69, -21), 0],\n",
       " [(-43, -88), 0],\n",
       " [(71, -71), 1],\n",
       " [(-24, -51), 0],\n",
       " [(89, 38), 0],\n",
       " [(68, 95), 0],\n",
       " [(31, 1), 0],\n",
       " [(-59, 17), 0],\n",
       " [(-3, 67), 0],\n",
       " [(62, 35), 0],\n",
       " [(0, -17), 0],\n",
       " [(18, 95), 0],\n",
       " [(-24, -4), 0],\n",
       " [(-43, -76), 0],\n",
       " [(33, -50), 0],\n",
       " [(-32, -51), 0],\n",
       " [(42, 27), 0],\n",
       " [(-85, 11), 0],\n",
       " [(32, -74), 0],\n",
       " [(-65, -56), 0],\n",
       " [(-39, -96), 0],\n",
       " [(-14, -25), 0],\n",
       " [(1, -19), 0],\n",
       " [(-45, 5), 0],\n",
       " [(-86, -60), 0],\n",
       " [(57, 14), 0],\n",
       " [(-22, 90), 0],\n",
       " [(-86, 94), 0],\n",
       " [(-52, -63), 0],\n",
       " [(17, 81), 0],\n",
       " [(70, -55), 0],\n",
       " [(-1, 5), 0],\n",
       " [(58, -76), 0],\n",
       " [(-22, 57), 0],\n",
       " [(-61, -71), 0],\n",
       " [(-87, -85), 0],\n",
       " [(-32, 75), 0],\n",
       " [(-92, -69), 0],\n",
       " [(-83, -2), 0],\n",
       " [(-7, -31), 0],\n",
       " [(-58, -94), 0],\n",
       " [(29, -87), 0],\n",
       " [(-90, 39), 0],\n",
       " [(-87, 79), 0],\n",
       " [(-54, -11), 0],\n",
       " [(-80, 51), 0],\n",
       " [(15, 4), 0],\n",
       " [(-41, -82), 0],\n",
       " [(57, 82), 0],\n",
       " [(-47, -8), 0],\n",
       " [(40, 4), 0],\n",
       " [(-12, -98), 0],\n",
       " [(80, 68), 0],\n",
       " [(78, 75), 0],\n",
       " [(17, -47), 0],\n",
       " [(30, -12), 0],\n",
       " [(-8, -17), 0],\n",
       " [(-64, 68), 0],\n",
       " [(-85, 4), 0],\n",
       " [(-7, 90), 0],\n",
       " [(1, 56), 0],\n",
       " [(-89, -66), 0],\n",
       " [(-23, 11), 0],\n",
       " [(29, 89), 0],\n",
       " [(-19, -32), 0],\n",
       " [(-1, -11), 0],\n",
       " [(45, -100), 0],\n",
       " [(-26, -75), 0],\n",
       " [(23, -98), 0],\n",
       " [(87, -75), 0],\n",
       " [(-93, -27), 0],\n",
       " [(-41, -46), 0],\n",
       " [(14, 51), 0],\n",
       " [(11, 89), 0],\n",
       " [(89, 14), 0],\n",
       " [(-71, -15), 0],\n",
       " [(69, -72), 0],\n",
       " [(-34, -67), 0],\n",
       " [(45, -23), 0],\n",
       " [(-8, 86), 0],\n",
       " [(84, 57), 0],\n",
       " [(95, -1), 0],\n",
       " [(-68, -31), 0],\n",
       " [(41, -84), 0],\n",
       " [(55, -46), 0],\n",
       " [(-48, 86), 0],\n",
       " [(-11, -27), 0],\n",
       " [(-36, 3), 0],\n",
       " [(-75, -24), 0],\n",
       " [(-84, 91), 0],\n",
       " [(-33, -43), 0],\n",
       " [(-99, 20), 0],\n",
       " [(-55, 30), 0],\n",
       " [(-33, 62), 0],\n",
       " [(41, -90), 0],\n",
       " [(6, -48), 0],\n",
       " [(-74, -69), 0],\n",
       " [(46, 41), 0],\n",
       " [(40, -91), 0],\n",
       " [(-42, 7), 0],\n",
       " [(23, 10), 0],\n",
       " [(67, -79), 0],\n",
       " [(3, 29), 0],\n",
       " [(64, 58), 0],\n",
       " [(42, 32), 0],\n",
       " [(-64, 58), 0],\n",
       " [(20, -25), 0],\n",
       " [(34, -31), 0],\n",
       " [(-38, -1), 0],\n",
       " [(5, -72), 0],\n",
       " [(6, -59), 0],\n",
       " [(37, 92), 0],\n",
       " [(76, -56), 0],\n",
       " [(52, -69), 0],\n",
       " [(57, 61), 0],\n",
       " [(-25, 89), 0],\n",
       " [(81, 20), 0],\n",
       " [(-66, 84), 0],\n",
       " [(-37, 97), 0],\n",
       " [(21, -89), 0],\n",
       " [(-63, 1), 0],\n",
       " [(74, -74), 1],\n",
       " [(79, 55), 0],\n",
       " [(17, -43), 0],\n",
       " [(42, -13), 0],\n",
       " [(-68, -79), 0],\n",
       " [(71, 41), 0],\n",
       " [(-73, -36), 0],\n",
       " [(-57, -97), 0],\n",
       " [(-23, -3), 0],\n",
       " [(47, -65), 0],\n",
       " [(9, 13), 0],\n",
       " [(-19, 11), 0],\n",
       " [(-14, 76), 0],\n",
       " [(95, -11), 0],\n",
       " [(-27, -23), 0],\n",
       " [(-30, 15), 0],\n",
       " [(-83, 92), 0],\n",
       " [(64, 85), 0],\n",
       " [(65, -35), 0],\n",
       " [(-78, -6), 0],\n",
       " [(-74, 34), 0],\n",
       " [(-73, 14), 0],\n",
       " [(83, 9), 0],\n",
       " [(85, -54), 0],\n",
       " [(57, -50), 0],\n",
       " [(20, -48), 0],\n",
       " [(-5, -64), 0],\n",
       " [(-37, 22), 0],\n",
       " [(-92, -41), 0],\n",
       " [(32, -49), 0],\n",
       " [(-57, -41), 0],\n",
       " [(-75, 13), 0],\n",
       " [(90, 25), 0],\n",
       " [(46, -7), 0],\n",
       " [(32, 47), 0],\n",
       " [(-78, -48), 0],\n",
       " [(-69, 57), 0],\n",
       " [(30, 86), 0],\n",
       " [(-95, -70), 0],\n",
       " [(67, -89), 0],\n",
       " [(-97, -43), 0],\n",
       " [(-43, 81), 0],\n",
       " [(-98, -46), 0],\n",
       " [(63, 23), 0],\n",
       " [(18, 92), 0],\n",
       " [(14, 20), 0],\n",
       " [(-44, -12), 0],\n",
       " [(-49, 82), 0],\n",
       " [(30, 77), 0],\n",
       " [(56, 89), 0],\n",
       " [(-8, 30), 0],\n",
       " [(-12, -19), 0],\n",
       " [(74, -12), 0],\n",
       " [(-100, 99), 0],\n",
       " [(-98, 39), 0],\n",
       " [(-77, -44), 0],\n",
       " [(-95, 23), 0],\n",
       " [(-27, 77), 0],\n",
       " [(-34, -39), 0],\n",
       " [(-72, 58), 0],\n",
       " [(77, -42), 0],\n",
       " [(38, 35), 0],\n",
       " [(-25, -49), 0],\n",
       " [(-44, -12), 0],\n",
       " [(-90, -23), 0],\n",
       " [(-13, 77), 0],\n",
       " [(-13, -44), 0],\n",
       " [(-18, 77), 0],\n",
       " [(10, -74), 0],\n",
       " [(-67, 68), 0],\n",
       " [(-9, -90), 0],\n",
       " [(22, 84), 0],\n",
       " [(-64, -73), 0],\n",
       " [(88, 96), 0],\n",
       " [(86, 69), 0],\n",
       " [(-18, -97), 0],\n",
       " [(54, 71), 0],\n",
       " [(99, 68), 0],\n",
       " [(-18, 49), 0],\n",
       " [(32, -86), 0],\n",
       " [(30, -70), 0],\n",
       " [(87, -13), 0],\n",
       " [(62, -82), 0],\n",
       " [(62, 66), 0],\n",
       " [(-63, -11), 0],\n",
       " [(-16, 10), 0],\n",
       " [(-91, -21), 0],\n",
       " [(-69, -31), 0],\n",
       " [(-54, -36), 0],\n",
       " [(-16, -8), 0],\n",
       " [(-9, 72), 0],\n",
       " [(51, 76), 0],\n",
       " [(65, 61), 0],\n",
       " [(0, 38), 0],\n",
       " [(-13, 35), 0],\n",
       " [(-14, 47), 0],\n",
       " [(-13, -64), 0],\n",
       " [(-16, 60), 0],\n",
       " [(46, -65), 0],\n",
       " [(44, 50), 0],\n",
       " [(86, 55), 0],\n",
       " [(37, 16), 0],\n",
       " [(-92, -87), 0],\n",
       " [(-58, -89), 0],\n",
       " [(-43, 58), 0],\n",
       " [(-36, 39), 0],\n",
       " [(-78, -27), 0],\n",
       " [(6, -94), 0],\n",
       " [(-24, -16), 0],\n",
       " [(-3, 30), 0],\n",
       " [(-54, 25), 0],\n",
       " [(-13, 18), 0],\n",
       " [(60, 73), 0],\n",
       " [(-87, -91), 0],\n",
       " [(8, 18), 0],\n",
       " [(-90, -28), 0],\n",
       " [(40, 19), 0],\n",
       " [(63, -26), 0],\n",
       " [(-18, -51), 0],\n",
       " [(-23, -37), 0],\n",
       " [(85, 76), 0],\n",
       " [(-49, 92), 0],\n",
       " [(42, -8), 0],\n",
       " [(-31, -13), 0],\n",
       " [(-56, -30), 0],\n",
       " [(-51, -78), 0],\n",
       " [(98, -87), 0],\n",
       " [(-24, 12), 0],\n",
       " [(6, 47), 0],\n",
       " [(-19, 62), 0],\n",
       " [(-57, -47), 0],\n",
       " [(17, -23), 0],\n",
       " [(99, 96), 0],\n",
       " [(63, -37), 0],\n",
       " [(75, -57), 0],\n",
       " [(24, -46), 0],\n",
       " [(-47, -80), 0],\n",
       " [(-34, 32), 0],\n",
       " [(-21, 51), 0],\n",
       " [(95, -94), 0],\n",
       " [(-59, 69), 0],\n",
       " [(-20, -20), 0],\n",
       " [(53, -91), 0],\n",
       " [(-38, 100), 0],\n",
       " [(-49, -22), 0],\n",
       " [(5, 81), 0],\n",
       " [(6, -72), 0],\n",
       " [(13, 35), 0],\n",
       " [(-64, -80), 0],\n",
       " [(68, -86), 0],\n",
       " [(55, -12), 0],\n",
       " [(82, -53), 0],\n",
       " [(-63, -12), 0],\n",
       " [(42, 14), 0],\n",
       " [(85, -27), 0],\n",
       " [(46, 75), 0],\n",
       " [(-12, 83), 0],\n",
       " [(-92, -11), 0],\n",
       " [(-17, -58), 0],\n",
       " [(22, -39), 0],\n",
       " [(29, -34), 0],\n",
       " [(4, 38), 0],\n",
       " [(-46, 27), 0],\n",
       " [(-35, 47), 0],\n",
       " [(-75, -37), 0],\n",
       " [(68, 88), 0],\n",
       " [(-55, 43), 0],\n",
       " ...]"
      ]
     },
     "execution_count": 73,
     "metadata": {},
     "output_type": "execute_result"
    }
   ],
   "source": [
    "memory"
   ]
  },
  {
   "cell_type": "code",
   "execution_count": 74,
   "metadata": {},
   "outputs": [
    {
     "name": "stdout",
     "output_type": "stream",
     "text": [
      "[(49, -49), 1]\n",
      "[(7, -7), 1]\n",
      "[(60, -60), 1]\n",
      "[(71, -71), 1]\n",
      "[(74, -74), 1]\n",
      "[(-98, 98), 1]\n",
      "[(-70, 70), 1]\n"
     ]
    }
   ],
   "source": [
    "for x in memory:\n",
    "    if x[1] ==1 :\n",
    "        print(x)\n"
   ]
  },
  {
   "cell_type": "markdown",
   "metadata": {},
   "source": [
    "# Adding Machine v.2"
   ]
  },
  {
   "cell_type": "code",
   "execution_count": 75,
   "metadata": {},
   "outputs": [],
   "source": [
    "# Give one number and a correct answer, then the machine guess right answer for the equation.\n",
    "# A + B = C, So I give A and C, Machine guess B.\n",
    "\n",
    "# 1.\n",
    "def add(n1, n2):\n",
    "    return n1 + n2 \n",
    "\n",
    "def machine(n1, anwser):\n",
    "    guessed_number = 0\n",
    "\n",
    "    # n1 + guessed_number = answer \n",
    "    return add(n1, guessed_number)\n",
    "\n",
    "\n",
    "memory = []\n",
    "\n",
    "def guess():\n",
    "    pass\n",
    "\n",
    "\n",
    "# Reward, Given number + guessed number = given right answer, given right answer - guessed number = 0 is right, else minus value is bad.\n",
    "right_answer = 3\n",
    "guessed_number = 1\n",
    "\n",
    "def reward(right_answer, guessed_number):\n",
    "    return right_answer - guessed_number \n",
    "\n",
    "# {given number, guessed_number, reward}\n",
    "\n"
   ]
  },
  {
   "cell_type": "markdown",
   "metadata": {},
   "source": [
    "# 뉴런으로 본 한계효용의 법칙\n",
    "[[인공지능] 뉴런으로 본 한계효용의 법칙](https://steemit.com/kr/@jaehyunlee/3e8ww8)"
   ]
  },
  {
   "cell_type": "code",
   "execution_count": 79,
   "metadata": {},
   "outputs": [],
   "source": [
    "Input = -3\n",
    "def A(x1, x2):\n",
    "    return x1 + x2 \n",
    "def B(x1):\n",
    "    return x1\n",
    "def C(x):\n",
    "    return x * -1 \n"
   ]
  },
  {
   "cell_type": "code",
   "execution_count": 80,
   "metadata": {},
   "outputs": [],
   "source": [
    "# Marginal Utility Neron, 한계효용 뉴런\n",
    "\n",
    "def MUN(input_value):\n",
    "    \n",
    "    c = C(0)\n",
    "    a = A(input_value, c)\n",
    "    C(a)\n",
    "\n",
    "    "
   ]
  },
  {
   "cell_type": "code",
   "execution_count": 95,
   "metadata": {},
   "outputs": [
    {
     "data": {
      "text/plain": [
       "-3"
      ]
     },
     "execution_count": 95,
     "metadata": {},
     "output_type": "execute_result"
    }
   ],
   "source": [
    "input_value = -3\n",
    "\n",
    "c = C(0)\n",
    "a = A(input_value, c)\n",
    "a\n"
   ]
  },
  {
   "cell_type": "code",
   "execution_count": 96,
   "metadata": {},
   "outputs": [
    {
     "data": {
      "text/plain": [
       "(3, 0)"
      ]
     },
     "execution_count": 96,
     "metadata": {},
     "output_type": "execute_result"
    }
   ],
   "source": [
    "c2 = C(a)\n",
    "a2 = A(input_value, c2) \n",
    "c2, a2 "
   ]
  },
  {
   "cell_type": "code",
   "execution_count": 97,
   "metadata": {},
   "outputs": [
    {
     "data": {
      "text/plain": [
       "(0, -3)"
      ]
     },
     "execution_count": 97,
     "metadata": {},
     "output_type": "execute_result"
    }
   ],
   "source": [
    "c3 = C(a2)\n",
    "a3 = A(-3, c3) \n",
    "c3, a3 "
   ]
  },
  {
   "cell_type": "code",
   "execution_count": 98,
   "metadata": {},
   "outputs": [
    {
     "data": {
      "text/plain": [
       "(3, -3)"
      ]
     },
     "execution_count": 98,
     "metadata": {},
     "output_type": "execute_result"
    }
   ],
   "source": [
    "c4 = C(a3)\n",
    "a4 = A(-6, c4) \n",
    "c4, a4 "
   ]
  },
  {
   "cell_type": "code",
   "execution_count": 100,
   "metadata": {},
   "outputs": [
    {
     "data": {
      "text/plain": [
       "(3, 0)"
      ]
     },
     "execution_count": 100,
     "metadata": {},
     "output_type": "execute_result"
    }
   ],
   "source": [
    "c5 = C(a4)\n",
    "a5 = A(-3, c5) \n",
    "c5, a5 "
   ]
  },
  {
   "cell_type": "code",
   "execution_count": 102,
   "metadata": {},
   "outputs": [
    {
     "data": {
      "text/plain": [
       "(0, 0)"
      ]
     },
     "execution_count": 102,
     "metadata": {},
     "output_type": "execute_result"
    }
   ],
   "source": [
    "c6 = C(a5)\n",
    "a6 = A(0, c6) \n",
    "c6, a6 "
   ]
  },
  {
   "cell_type": "code",
   "execution_count": null,
   "metadata": {},
   "outputs": [],
   "source": []
  }
 ],
 "metadata": {
  "kernelspec": {
   "display_name": "base",
   "language": "python",
   "name": "python3"
  },
  "language_info": {
   "codemirror_mode": {
    "name": "ipython",
    "version": 3
   },
   "file_extension": ".py",
   "mimetype": "text/x-python",
   "name": "python",
   "nbconvert_exporter": "python",
   "pygments_lexer": "ipython3",
   "version": "3.12.9"
  }
 },
 "nbformat": 4,
 "nbformat_minor": 2
}
